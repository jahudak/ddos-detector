{
  "cells": [
    {
      "cell_type": "markdown",
      "metadata": {
        "id": "U7-aGs3-BFgt"
      },
      "source": [
        "# Overview"
      ]
    },
    {
      "cell_type": "code",
      "execution_count": 122,
      "metadata": {
        "colab": {
          "base_uri": "https://localhost:8080/"
        },
        "collapsed": true,
        "id": "Frm85eg7x5Iy",
        "outputId": "04243fd4-fb86-4b07-ddc9-2b52f225c951"
      },
      "outputs": [
        {
          "name": "stdout",
          "output_type": "stream",
          "text": [
            "Requirement already satisfied: seaborn in c:\\users\\asus\\.pyenv\\pyenv-win\\versions\\3.12.7\\lib\\site-packages (0.13.2)\n",
            "Requirement already satisfied: numpy!=1.24.0,>=1.20 in c:\\users\\asus\\.pyenv\\pyenv-win\\versions\\3.12.7\\lib\\site-packages (from seaborn) (2.1.3)\n",
            "Requirement already satisfied: pandas>=1.2 in c:\\users\\asus\\.pyenv\\pyenv-win\\versions\\3.12.7\\lib\\site-packages (from seaborn) (2.2.3)\n",
            "Requirement already satisfied: matplotlib!=3.6.1,>=3.4 in c:\\users\\asus\\.pyenv\\pyenv-win\\versions\\3.12.7\\lib\\site-packages (from seaborn) (3.10.1)\n",
            "Requirement already satisfied: contourpy>=1.0.1 in c:\\users\\asus\\.pyenv\\pyenv-win\\versions\\3.12.7\\lib\\site-packages (from matplotlib!=3.6.1,>=3.4->seaborn) (1.3.1)\n",
            "Requirement already satisfied: cycler>=0.10 in c:\\users\\asus\\.pyenv\\pyenv-win\\versions\\3.12.7\\lib\\site-packages (from matplotlib!=3.6.1,>=3.4->seaborn) (0.12.1)\n",
            "Requirement already satisfied: fonttools>=4.22.0 in c:\\users\\asus\\.pyenv\\pyenv-win\\versions\\3.12.7\\lib\\site-packages (from matplotlib!=3.6.1,>=3.4->seaborn) (4.56.0)\n",
            "Requirement already satisfied: kiwisolver>=1.3.1 in c:\\users\\asus\\.pyenv\\pyenv-win\\versions\\3.12.7\\lib\\site-packages (from matplotlib!=3.6.1,>=3.4->seaborn) (1.4.8)\n",
            "Requirement already satisfied: packaging>=20.0 in c:\\users\\asus\\.pyenv\\pyenv-win\\versions\\3.12.7\\lib\\site-packages (from matplotlib!=3.6.1,>=3.4->seaborn) (24.2)\n",
            "Requirement already satisfied: pillow>=8 in c:\\users\\asus\\.pyenv\\pyenv-win\\versions\\3.12.7\\lib\\site-packages (from matplotlib!=3.6.1,>=3.4->seaborn) (11.0.0)\n",
            "Requirement already satisfied: pyparsing>=2.3.1 in c:\\users\\asus\\.pyenv\\pyenv-win\\versions\\3.12.7\\lib\\site-packages (from matplotlib!=3.6.1,>=3.4->seaborn) (3.2.1)\n",
            "Requirement already satisfied: python-dateutil>=2.7 in c:\\users\\asus\\.pyenv\\pyenv-win\\versions\\3.12.7\\lib\\site-packages (from matplotlib!=3.6.1,>=3.4->seaborn) (2.9.0.post0)\n",
            "Requirement already satisfied: pytz>=2020.1 in c:\\users\\asus\\.pyenv\\pyenv-win\\versions\\3.12.7\\lib\\site-packages (from pandas>=1.2->seaborn) (2024.2)\n",
            "Requirement already satisfied: tzdata>=2022.7 in c:\\users\\asus\\.pyenv\\pyenv-win\\versions\\3.12.7\\lib\\site-packages (from pandas>=1.2->seaborn) (2024.2)\n",
            "Requirement already satisfied: six>=1.5 in c:\\users\\asus\\.pyenv\\pyenv-win\\versions\\3.12.7\\lib\\site-packages (from python-dateutil>=2.7->matplotlib!=3.6.1,>=3.4->seaborn) (1.16.0)\n",
            "Note: you may need to restart the kernel to use updated packages.\n"
          ]
        },
        {
          "name": "stderr",
          "output_type": "stream",
          "text": [
            "\n",
            "[notice] A new release of pip is available: 24.2 -> 25.1.1\n",
            "[notice] To update, run: c:\\Users\\ASUS\\.pyenv\\pyenv-win\\versions\\3.12.7\\python.exe -m pip install --upgrade pip\n"
          ]
        },
        {
          "name": "stdout",
          "output_type": "stream",
          "text": [
            "Requirement already satisfied: numpy in c:\\users\\asus\\.pyenv\\pyenv-win\\versions\\3.12.7\\lib\\site-packages (2.1.3)Note: you may need to restart the kernel to use updated packages.\n",
            "\n"
          ]
        },
        {
          "name": "stderr",
          "output_type": "stream",
          "text": [
            "\n",
            "[notice] A new release of pip is available: 24.2 -> 25.1.1\n",
            "[notice] To update, run: c:\\Users\\ASUS\\.pyenv\\pyenv-win\\versions\\3.12.7\\python.exe -m pip install --upgrade pip\n"
          ]
        },
        {
          "name": "stdout",
          "output_type": "stream",
          "text": [
            "Requirement already satisfied: pandas in c:\\users\\asus\\.pyenv\\pyenv-win\\versions\\3.12.7\\lib\\site-packages (2.2.3)\n",
            "Requirement already satisfied: numpy>=1.26.0 in c:\\users\\asus\\.pyenv\\pyenv-win\\versions\\3.12.7\\lib\\site-packages (from pandas) (2.1.3)\n",
            "Requirement already satisfied: python-dateutil>=2.8.2 in c:\\users\\asus\\.pyenv\\pyenv-win\\versions\\3.12.7\\lib\\site-packages (from pandas) (2.9.0.post0)\n",
            "Requirement already satisfied: pytz>=2020.1 in c:\\users\\asus\\.pyenv\\pyenv-win\\versions\\3.12.7\\lib\\site-packages (from pandas) (2024.2)\n",
            "Requirement already satisfied: tzdata>=2022.7 in c:\\users\\asus\\.pyenv\\pyenv-win\\versions\\3.12.7\\lib\\site-packages (from pandas) (2024.2)\n",
            "Requirement already satisfied: six>=1.5 in c:\\users\\asus\\.pyenv\\pyenv-win\\versions\\3.12.7\\lib\\site-packages (from python-dateutil>=2.8.2->pandas) (1.16.0)\n",
            "Note: you may need to restart the kernel to use updated packages.\n"
          ]
        },
        {
          "name": "stderr",
          "output_type": "stream",
          "text": [
            "\n",
            "[notice] A new release of pip is available: 24.2 -> 25.1.1\n",
            "[notice] To update, run: c:\\Users\\ASUS\\.pyenv\\pyenv-win\\versions\\3.12.7\\python.exe -m pip install --upgrade pip\n"
          ]
        },
        {
          "name": "stdout",
          "output_type": "stream",
          "text": [
            "Requirement already satisfied: matplotlib in c:\\users\\asus\\.pyenv\\pyenv-win\\versions\\3.12.7\\lib\\site-packages (3.10.1)\n",
            "Requirement already satisfied: contourpy>=1.0.1 in c:\\users\\asus\\.pyenv\\pyenv-win\\versions\\3.12.7\\lib\\site-packages (from matplotlib) (1.3.1)\n",
            "Requirement already satisfied: cycler>=0.10 in c:\\users\\asus\\.pyenv\\pyenv-win\\versions\\3.12.7\\lib\\site-packages (from matplotlib) (0.12.1)\n",
            "Requirement already satisfied: fonttools>=4.22.0 in c:\\users\\asus\\.pyenv\\pyenv-win\\versions\\3.12.7\\lib\\site-packages (from matplotlib) (4.56.0)\n",
            "Requirement already satisfied: kiwisolver>=1.3.1 in c:\\users\\asus\\.pyenv\\pyenv-win\\versions\\3.12.7\\lib\\site-packages (from matplotlib) (1.4.8)\n",
            "Requirement already satisfied: numpy>=1.23 in c:\\users\\asus\\.pyenv\\pyenv-win\\versions\\3.12.7\\lib\\site-packages (from matplotlib) (2.1.3)\n",
            "Requirement already satisfied: packaging>=20.0 in c:\\users\\asus\\.pyenv\\pyenv-win\\versions\\3.12.7\\lib\\site-packages (from matplotlib) (24.2)\n",
            "Requirement already satisfied: pillow>=8 in c:\\users\\asus\\.pyenv\\pyenv-win\\versions\\3.12.7\\lib\\site-packages (from matplotlib) (11.0.0)\n",
            "Requirement already satisfied: pyparsing>=2.3.1 in c:\\users\\asus\\.pyenv\\pyenv-win\\versions\\3.12.7\\lib\\site-packages (from matplotlib) (3.2.1)\n",
            "Requirement already satisfied: python-dateutil>=2.7 in c:\\users\\asus\\.pyenv\\pyenv-win\\versions\\3.12.7\\lib\\site-packages (from matplotlib) (2.9.0.post0)\n",
            "Requirement already satisfied: six>=1.5 in c:\\users\\asus\\.pyenv\\pyenv-win\\versions\\3.12.7\\lib\\site-packages (from python-dateutil>=2.7->matplotlib) (1.16.0)\n",
            "Note: you may need to restart the kernel to use updated packages.\n"
          ]
        },
        {
          "name": "stderr",
          "output_type": "stream",
          "text": [
            "\n",
            "[notice] A new release of pip is available: 24.2 -> 25.1.1\n",
            "[notice] To update, run: c:\\Users\\ASUS\\.pyenv\\pyenv-win\\versions\\3.12.7\\python.exe -m pip install --upgrade pip\n"
          ]
        },
        {
          "name": "stdout",
          "output_type": "stream",
          "text": [
            "Requirement already satisfied: plotly in c:\\users\\asus\\.pyenv\\pyenv-win\\versions\\3.12.7\\lib\\site-packages (6.1.0)\n",
            "Requirement already satisfied: narwhals>=1.15.1 in c:\\users\\asus\\.pyenv\\pyenv-win\\versions\\3.12.7\\lib\\site-packages (from plotly) (1.39.1)\n",
            "Requirement already satisfied: packaging in c:\\users\\asus\\.pyenv\\pyenv-win\\versions\\3.12.7\\lib\\site-packages (from plotly) (24.2)\n",
            "Note: you may need to restart the kernel to use updated packages.\n"
          ]
        },
        {
          "name": "stderr",
          "output_type": "stream",
          "text": [
            "\n",
            "[notice] A new release of pip is available: 24.2 -> 25.1.1\n",
            "[notice] To update, run: c:\\Users\\ASUS\\.pyenv\\pyenv-win\\versions\\3.12.7\\python.exe -m pip install --upgrade pip\n"
          ]
        },
        {
          "name": "stdout",
          "output_type": "stream",
          "text": [
            "Requirement already satisfied: imbalanced-learn in c:\\users\\asus\\.pyenv\\pyenv-win\\versions\\3.12.7\\lib\\site-packages (0.13.0)\n",
            "Requirement already satisfied: numpy<3,>=1.24.3 in c:\\users\\asus\\.pyenv\\pyenv-win\\versions\\3.12.7\\lib\\site-packages (from imbalanced-learn) (2.1.3)\n",
            "Requirement already satisfied: scipy<2,>=1.10.1 in c:\\users\\asus\\.pyenv\\pyenv-win\\versions\\3.12.7\\lib\\site-packages (from imbalanced-learn) (1.15.3)\n",
            "Requirement already satisfied: scikit-learn<2,>=1.3.2 in c:\\users\\asus\\.pyenv\\pyenv-win\\versions\\3.12.7\\lib\\site-packages (from imbalanced-learn) (1.6.1)\n",
            "Requirement already satisfied: sklearn-compat<1,>=0.1 in c:\\users\\asus\\.pyenv\\pyenv-win\\versions\\3.12.7\\lib\\site-packages (from imbalanced-learn) (0.1.3)\n",
            "Requirement already satisfied: joblib<2,>=1.1.1 in c:\\users\\asus\\.pyenv\\pyenv-win\\versions\\3.12.7\\lib\\site-packages (from imbalanced-learn) (1.5.0)\n",
            "Requirement already satisfied: threadpoolctl<4,>=2.0.0 in c:\\users\\asus\\.pyenv\\pyenv-win\\versions\\3.12.7\\lib\\site-packages (from imbalanced-learn) (3.6.0)\n",
            "Note: you may need to restart the kernel to use updated packages.\n"
          ]
        },
        {
          "name": "stderr",
          "output_type": "stream",
          "text": [
            "\n",
            "[notice] A new release of pip is available: 24.2 -> 25.1.1\n",
            "[notice] To update, run: c:\\Users\\ASUS\\.pyenv\\pyenv-win\\versions\\3.12.7\\python.exe -m pip install --upgrade pip\n"
          ]
        }
      ],
      "source": [
        "%pip install seaborn\n",
        "%pip install numpy\n",
        "%pip install pandas\n",
        "%pip install matplotlib\n",
        "%pip install plotly\n",
        "%pip install imbalanced-learn"
      ]
    },
    {
      "cell_type": "code",
      "execution_count": 123,
      "metadata": {
        "id": "Ssrf8U5TzZdQ"
      },
      "outputs": [],
      "source": [
        "import warnings\n",
        "import pandas as pd\n",
        "import numpy as np\n",
        "import matplotlib.pyplot as plt\n",
        "import seaborn as sns\n",
        "from imblearn.over_sampling import SMOTE\n",
        "from sklearn.ensemble import RandomForestClassifier\n",
        "from sklearn.model_selection import train_test_split\n",
        "from sklearn.preprocessing import StandardScaler\n",
        "from sklearn.linear_model import LogisticRegression\n",
        "from sklearn.metrics import precision_recall_curve, auc\n",
        "import os"
      ]
    },
    {
      "cell_type": "code",
      "execution_count": 124,
      "metadata": {
        "colab": {
          "base_uri": "https://localhost:8080/"
        },
        "id": "_S1wwNzBS651",
        "outputId": "f2900efb-23a3-40fd-88e1-79bbc7539b48"
      },
      "outputs": [
        {
          "name": "stdout",
          "output_type": "stream",
          "text": [
            "d:\\University\\msc\\3_felev\\hamlab\\beadas\\ddos-detector\\M3\n"
          ]
        }
      ],
      "source": [
        "print(os.getcwd())"
      ]
    },
    {
      "cell_type": "code",
      "execution_count": 125,
      "metadata": {
        "id": "eHbY1l6Bzaev"
      },
      "outputs": [],
      "source": [
        "warnings.filterwarnings(\"ignore\")"
      ]
    },
    {
      "cell_type": "code",
      "execution_count": 126,
      "metadata": {},
      "outputs": [],
      "source": [
        "data = pd.read_parquet(\"data/preprocessed_data_A.parquet\")"
      ]
    },
    {
      "cell_type": "code",
      "execution_count": 127,
      "metadata": {
        "colab": {
          "base_uri": "https://localhost:8080/"
        },
        "id": "hZm_o7C2zdCy",
        "outputId": "7a5ed3af-7f01-40a1-ad34-37f1570cf7b3"
      },
      "outputs": [
        {
          "name": "stdout",
          "output_type": "stream",
          "text": [
            "<class 'pandas.core.frame.DataFrame'>\n",
            "Index: 586636 entries, 0 to 586637\n",
            "Data columns (total 36 columns):\n",
            " #   Column                    Non-Null Count   Dtype         \n",
            "---  ------                    --------------   -----         \n",
            " 0   Attack ID                 586636 non-null  int64         \n",
            " 1   Detect count              586636 non-null  int64         \n",
            " 2   Victim IP                 586636 non-null  object        \n",
            " 3   Port number               586636 non-null  int64         \n",
            " 4   Attack code               586636 non-null  object        \n",
            " 5   Packet speed              586636 non-null  float32       \n",
            " 6   Data speed                586636 non-null  float32       \n",
            " 7   Avg packet len            586636 non-null  float32       \n",
            " 8   Source IP count           586636 non-null  float32       \n",
            " 9   Time                      586636 non-null  object        \n",
            " 10  Avg source IP count       586636 non-null  float32       \n",
            " 11  Start time                586636 non-null  datetime64[ns]\n",
            " 12  End time                  586636 non-null  datetime64[ns]\n",
            " 13  Start_time_hour           586636 non-null  int32         \n",
            " 14  Start_time_weekday        586636 non-null  int32         \n",
            " 15  Start_time_dayofyear      586636 non-null  int32         \n",
            " 16  End_time_hour             586636 non-null  int32         \n",
            " 17  End_time_weekday          586636 non-null  int32         \n",
            " 18  End_time_dayofyear        586636 non-null  int32         \n",
            " 19  Start_time_hour_sin       586636 non-null  float64       \n",
            " 20  Start_time_hour_cos       586636 non-null  float64       \n",
            " 21  Start_time_weekday_sin    586636 non-null  float64       \n",
            " 22  Start_time_weekday_cos    586636 non-null  float64       \n",
            " 23  Start_time_dayofyear_sin  586636 non-null  float64       \n",
            " 24  Start_time_dayofyear_cos  586636 non-null  float64       \n",
            " 25  End_time_hour_sin         586636 non-null  float64       \n",
            " 26  End_time_hour_cos         586636 non-null  float64       \n",
            " 27  End_time_weekday_sin      586636 non-null  float64       \n",
            " 28  End_time_weekday_cos      586636 non-null  float64       \n",
            " 29  End_time_dayofyear_sin    586636 non-null  float64       \n",
            " 30  End_time_dayofyear_cos    586636 non-null  float64       \n",
            " 31  Victim IP Number          586636 non-null  int64         \n",
            " 32  Type                      586636 non-null  object        \n",
            " 33  Type_DDoS attack          586636 non-null  bool          \n",
            " 34  Type_Normal traffic       586636 non-null  bool          \n",
            " 35  Type_Suspicious traffic   586636 non-null  bool          \n",
            "dtypes: bool(3), datetime64[ns](2), float32(5), float64(12), int32(6), int64(4), object(4)\n",
            "memory usage: 129.2+ MB\n"
          ]
        }
      ],
      "source": [
        "data[\"Victim IP Number\"] = data[\"Victim IP\"].str.extract(r\"IP_(\\d+)\").astype(int)\n",
        "data[\"Type_Original\"] = data[\"Type\"]\n",
        "data = pd.get_dummies(data, columns=['Type'])\n",
        "data = data.rename(columns={\"Type_Original\": \"Type\"})\n",
        "data.info()"
      ]
    },
    {
      "cell_type": "code",
      "execution_count": 128,
      "metadata": {
        "id": "A6pAnTRg1ynT"
      },
      "outputs": [],
      "source": [
        "df = data.rename(columns={\n",
        "    \"Attack code\": \"attack_code\",\n",
        "    \"Victim IP Number\": \"victim_ip\",\n",
        "    \"Port number\": \"port_number\",\n",
        "    \"Packet speed\": \"packet_speed\",\n",
        "    \"Data speed\": \"data_speed\",\n",
        "    \"Avg packet len\": \"packet_len\",\n",
        "    \"Source IP count\": \"source_ip\",\n",
        "    \"Avg source IP count\": \"avg_source_ip\",\n",
        "    \"Start_time_hour_sin\": \"start_hour\",\n",
        "    \"Start_time_weekday_sin\": \"start_weekday\",\n",
        "    \"Start_time_dayofyear_sin\": \"start_dayofyear\",\n",
        "    \"End_time_hour_sin\": \"end_hour\",\n",
        "    \"End_time_weekday_sin\": \"end_weekday\",\n",
        "    \"End_time_dayofyear_sin\": \"end_dayofyear\",\n",
        "    \"Type_DDoS attack\": \"type_ddos\",\n",
        "    \"Type_Normal traffic\": \"type_normal\",\n",
        "    \"Type_Suspicious traffic\": \"type_sus\"\n",
        "})[\n",
        "    [\"attack_code\",\"victim_ip\", \"port_number\", \"packet_speed\", \"data_speed\", \"packet_len\", \"source_ip\", \"avg_source_ip\",\n",
        "     \"start_hour\", \"start_weekday\", \"start_dayofyear\", \"end_hour\", \"end_weekday\", \"end_dayofyear\",\n",
        "     \"type_ddos\", \"type_normal\", \"type_sus\"]\n",
        "]\n",
        "\n"
      ]
    },
    {
      "cell_type": "code",
      "execution_count": 129,
      "metadata": {
        "colab": {
          "base_uri": "https://localhost:8080/"
        },
        "id": "vbacxjjBYADw",
        "outputId": "4f3b5946-13ee-4d23-9b11-35e8db468994"
      },
      "outputs": [
        {
          "data": {
            "text/plain": [
              "Index(['attack_code', 'victim_ip', 'port_number', 'packet_speed', 'data_speed',\n",
              "       'packet_len', 'source_ip', 'avg_source_ip', 'start_hour',\n",
              "       'start_weekday', 'start_dayofyear', 'end_hour', 'end_weekday',\n",
              "       'end_dayofyear', 'type_ddos', 'type_normal', 'type_sus'],\n",
              "      dtype='object')"
            ]
          },
          "execution_count": 129,
          "metadata": {},
          "output_type": "execute_result"
        }
      ],
      "source": [
        "df.columns"
      ]
    },
    {
      "cell_type": "code",
      "execution_count": 130,
      "metadata": {
        "colab": {
          "base_uri": "https://localhost:8080/",
          "height": 313
        },
        "id": "v6BBMW0mX8DP",
        "outputId": "571858dc-d7cf-4f92-e756-e600f7a95492"
      },
      "outputs": [
        {
          "data": {
            "text/html": [
              "<div>\n",
              "<style scoped>\n",
              "    .dataframe tbody tr th:only-of-type {\n",
              "        vertical-align: middle;\n",
              "    }\n",
              "\n",
              "    .dataframe tbody tr th {\n",
              "        vertical-align: top;\n",
              "    }\n",
              "\n",
              "    .dataframe thead th {\n",
              "        text-align: right;\n",
              "    }\n",
              "</style>\n",
              "<table border=\"1\" class=\"dataframe\">\n",
              "  <thead>\n",
              "    <tr style=\"text-align: right;\">\n",
              "      <th></th>\n",
              "      <th>attack_code</th>\n",
              "      <th>victim_ip</th>\n",
              "      <th>port_number</th>\n",
              "      <th>packet_speed</th>\n",
              "      <th>data_speed</th>\n",
              "      <th>packet_len</th>\n",
              "      <th>source_ip</th>\n",
              "      <th>avg_source_ip</th>\n",
              "      <th>start_hour</th>\n",
              "      <th>start_weekday</th>\n",
              "      <th>start_dayofyear</th>\n",
              "      <th>end_hour</th>\n",
              "      <th>end_weekday</th>\n",
              "      <th>end_dayofyear</th>\n",
              "      <th>type_ddos</th>\n",
              "      <th>type_normal</th>\n",
              "      <th>type_sus</th>\n",
              "      <th>type</th>\n",
              "    </tr>\n",
              "  </thead>\n",
              "  <tbody>\n",
              "    <tr>\n",
              "      <th>0</th>\n",
              "      <td>High volume traffic</td>\n",
              "      <td>1</td>\n",
              "      <td>4500</td>\n",
              "      <td>55600.0</td>\n",
              "      <td>73.0</td>\n",
              "      <td>1383.0</td>\n",
              "      <td>6.0</td>\n",
              "      <td>6.0</td>\n",
              "      <td>-1.0</td>\n",
              "      <td>0.0</td>\n",
              "      <td>-0.601624</td>\n",
              "      <td>-1.0</td>\n",
              "      <td>0.0</td>\n",
              "      <td>-0.601624</td>\n",
              "      <td>False</td>\n",
              "      <td>True</td>\n",
              "      <td>False</td>\n",
              "      <td>normal</td>\n",
              "    </tr>\n",
              "    <tr>\n",
              "      <th>1</th>\n",
              "      <td>High volume traffic</td>\n",
              "      <td>2</td>\n",
              "      <td>4500</td>\n",
              "      <td>63500.0</td>\n",
              "      <td>90.0</td>\n",
              "      <td>1506.0</td>\n",
              "      <td>1.0</td>\n",
              "      <td>1.0</td>\n",
              "      <td>-1.0</td>\n",
              "      <td>0.0</td>\n",
              "      <td>-0.601624</td>\n",
              "      <td>-1.0</td>\n",
              "      <td>0.0</td>\n",
              "      <td>-0.601624</td>\n",
              "      <td>False</td>\n",
              "      <td>True</td>\n",
              "      <td>False</td>\n",
              "      <td>normal</td>\n",
              "    </tr>\n",
              "    <tr>\n",
              "      <th>2</th>\n",
              "      <td>High volume traffic</td>\n",
              "      <td>3</td>\n",
              "      <td>1200</td>\n",
              "      <td>59700.0</td>\n",
              "      <td>79.0</td>\n",
              "      <td>1399.0</td>\n",
              "      <td>1.0</td>\n",
              "      <td>1.0</td>\n",
              "      <td>-1.0</td>\n",
              "      <td>0.0</td>\n",
              "      <td>-0.601624</td>\n",
              "      <td>-1.0</td>\n",
              "      <td>0.0</td>\n",
              "      <td>-0.601624</td>\n",
              "      <td>False</td>\n",
              "      <td>True</td>\n",
              "      <td>False</td>\n",
              "      <td>normal</td>\n",
              "    </tr>\n",
              "    <tr>\n",
              "      <th>3</th>\n",
              "      <td>High volume traffic</td>\n",
              "      <td>3</td>\n",
              "      <td>1200</td>\n",
              "      <td>65700.0</td>\n",
              "      <td>86.0</td>\n",
              "      <td>1399.0</td>\n",
              "      <td>1.0</td>\n",
              "      <td>1.0</td>\n",
              "      <td>-1.0</td>\n",
              "      <td>0.0</td>\n",
              "      <td>-0.601624</td>\n",
              "      <td>-1.0</td>\n",
              "      <td>0.0</td>\n",
              "      <td>-0.601624</td>\n",
              "      <td>False</td>\n",
              "      <td>True</td>\n",
              "      <td>False</td>\n",
              "      <td>normal</td>\n",
              "    </tr>\n",
              "    <tr>\n",
              "      <th>4</th>\n",
              "      <td>High volume traffic</td>\n",
              "      <td>2</td>\n",
              "      <td>4500</td>\n",
              "      <td>59500.0</td>\n",
              "      <td>85.0</td>\n",
              "      <td>1486.0</td>\n",
              "      <td>1.0</td>\n",
              "      <td>1.0</td>\n",
              "      <td>-1.0</td>\n",
              "      <td>0.0</td>\n",
              "      <td>-0.601624</td>\n",
              "      <td>-1.0</td>\n",
              "      <td>0.0</td>\n",
              "      <td>-0.601624</td>\n",
              "      <td>False</td>\n",
              "      <td>True</td>\n",
              "      <td>False</td>\n",
              "      <td>normal</td>\n",
              "    </tr>\n",
              "  </tbody>\n",
              "</table>\n",
              "</div>"
            ],
            "text/plain": [
              "           attack_code  victim_ip  port_number  packet_speed  data_speed  \\\n",
              "0  High volume traffic          1         4500       55600.0        73.0   \n",
              "1  High volume traffic          2         4500       63500.0        90.0   \n",
              "2  High volume traffic          3         1200       59700.0        79.0   \n",
              "3  High volume traffic          3         1200       65700.0        86.0   \n",
              "4  High volume traffic          2         4500       59500.0        85.0   \n",
              "\n",
              "   packet_len  source_ip  avg_source_ip  start_hour  start_weekday  \\\n",
              "0      1383.0        6.0            6.0        -1.0            0.0   \n",
              "1      1506.0        1.0            1.0        -1.0            0.0   \n",
              "2      1399.0        1.0            1.0        -1.0            0.0   \n",
              "3      1399.0        1.0            1.0        -1.0            0.0   \n",
              "4      1486.0        1.0            1.0        -1.0            0.0   \n",
              "\n",
              "   start_dayofyear  end_hour  end_weekday  end_dayofyear  type_ddos  \\\n",
              "0        -0.601624      -1.0          0.0      -0.601624      False   \n",
              "1        -0.601624      -1.0          0.0      -0.601624      False   \n",
              "2        -0.601624      -1.0          0.0      -0.601624      False   \n",
              "3        -0.601624      -1.0          0.0      -0.601624      False   \n",
              "4        -0.601624      -1.0          0.0      -0.601624      False   \n",
              "\n",
              "   type_normal  type_sus    type  \n",
              "0         True     False  normal  \n",
              "1         True     False  normal  \n",
              "2         True     False  normal  \n",
              "3         True     False  normal  \n",
              "4         True     False  normal  "
            ]
          },
          "execution_count": 130,
          "metadata": {},
          "output_type": "execute_result"
        }
      ],
      "source": [
        "df[\"type\"] = df[[\"type_ddos\", \"type_sus\", \"type_normal\"]].idxmax(axis=1)\n",
        "df[\"type\"] = df[\"type\"].map({\"type_ddos\": \"ddos\", \"type_sus\": \"sus\", \"type_normal\": \"normal\"})\n",
        "# df = df.drop(columns=[\"type_ddos\", \"type_sus\", \"type_normal\"])\n",
        "\n",
        "df.head()"
      ]
    },
    {
      "cell_type": "markdown",
      "metadata": {
        "id": "a48L3ZAnV7UG"
      },
      "source": [
        "# Domain knowledge"
      ]
    },
    {
      "cell_type": "markdown",
      "metadata": {},
      "source": [
        "Get unique values"
      ]
    },
    {
      "cell_type": "code",
      "execution_count": 131,
      "metadata": {
        "colab": {
          "base_uri": "https://localhost:8080/"
        },
        "id": "At6Tcfz3XrU0",
        "outputId": "f5d581d0-14e4-4e2f-defc-bf9de89bbd62"
      },
      "outputs": [
        {
          "data": {
            "text/plain": [
              "array(['High volume traffic', 'Suspicious traffic', 'DNS', 'Generic UDP',\n",
              "       'CLDAP', 'DNS, High volume traffic', 'SNMP, High volume traffic',\n",
              "       'DNS, SNMP, High volume traffic',\n",
              "       'DNS, SNMP, IPv4 fragmentation, High volume traffic',\n",
              "       'DNS, SNMP, IPv4 fragmentation', 'DNS, SNMP', 'SNMP', 'CoAP',\n",
              "       'Generic UDP, RPC', 'Sentinel', 'SSDP', 'NTP, SSDP',\n",
              "       'NTP, SSDP, High volume traffic', 'SSDP, High volume traffic',\n",
              "       'NTP', 'CoAP, High volume traffic', 'CLDAP, High volume traffic',\n",
              "       'IPv4 fragmentation', 'NTP, RDP', 'DNS, NTP', 'DNS, NTP, RDP',\n",
              "       'NTP, High volume traffic', 'TCP Anomaly', 'SYN Attack',\n",
              "       'TCP Anomaly, ACK Attack', 'Suspicious traffic, NTP',\n",
              "       'Suspicious traffic, CLDAP',\n",
              "       'IPv4 fragmentation, High volume traffic',\n",
              "       'Suspicious traffic, DNS', 'DNS, CLDAP, High volume traffic',\n",
              "       'DNS, CLDAP', 'Suspicious traffic, DNS, IPv4 fragmentation',\n",
              "       'Suspicious traffic, DNS, SYN Attack', 'Suspicious traffic, SSDP',\n",
              "       'Suspicious traffic, DNS, CLDAP',\n",
              "       'DNS, IPv4 fragmentation, High volume traffic',\n",
              "       'Suspicious traffic, CHARGEN',\n",
              "       'Suspicious traffic, CHARGEN, IPv4 fragmentation',\n",
              "       'Suspicious traffic, NTP, CHARGEN',\n",
              "       'Suspicious traffic, NTP, CHARGEN, IPv4 fragmentation',\n",
              "       'Suspicious traffic, DNS, NTP, CHARGEN, IPv4 fragmentation',\n",
              "       'Suspicious traffic, DNS, NTP, CHARGEN',\n",
              "       'Suspicious traffic, DNS, NTP'], dtype=object)"
            ]
          },
          "execution_count": 131,
          "metadata": {},
          "output_type": "execute_result"
        }
      ],
      "source": [
        "unique_attack_codes = df['attack_code'].unique()\n",
        "unique_attack_codes"
      ]
    },
    {
      "cell_type": "markdown",
      "metadata": {
        "id": "6nKDpCMfgVuP"
      },
      "source": [
        "## Protocols"
      ]
    },
    {
      "cell_type": "code",
      "execution_count": 132,
      "metadata": {
        "id": "_wfGj_nwgApG"
      },
      "outputs": [],
      "source": [
        "def add_protocol_features(df):\n",
        "    df['is_dns'] = df['port_number'].isin([53, 5353]).astype(int)  # DNS\n",
        "    df['is_ntp'] = df['port_number'].isin([123]).astype(int)        # NTP\n",
        "    df['is_coap'] = df['port_number'].isin([5683, 5684]).astype(int) # CoAP\n",
        "    df['is_ssdp'] = (df['port_number'] == 1900).astype(int)  # SSDP\n",
        "    return df"
      ]
    },
    {
      "cell_type": "code",
      "execution_count": 133,
      "metadata": {
        "colab": {
          "base_uri": "https://localhost:8080/",
          "height": 617
        },
        "id": "cM792_lehtrd",
        "outputId": "1d0a59b5-1426-4591-c4d2-1e6625a95486"
      },
      "outputs": [
        {
          "data": {
            "text/html": [
              "<div>\n",
              "<style scoped>\n",
              "    .dataframe tbody tr th:only-of-type {\n",
              "        vertical-align: middle;\n",
              "    }\n",
              "\n",
              "    .dataframe tbody tr th {\n",
              "        vertical-align: top;\n",
              "    }\n",
              "\n",
              "    .dataframe thead th {\n",
              "        text-align: right;\n",
              "    }\n",
              "</style>\n",
              "<table border=\"1\" class=\"dataframe\">\n",
              "  <thead>\n",
              "    <tr style=\"text-align: right;\">\n",
              "      <th></th>\n",
              "      <th>attack_code</th>\n",
              "      <th>victim_ip</th>\n",
              "      <th>port_number</th>\n",
              "      <th>packet_speed</th>\n",
              "      <th>data_speed</th>\n",
              "      <th>packet_len</th>\n",
              "      <th>source_ip</th>\n",
              "      <th>avg_source_ip</th>\n",
              "      <th>start_hour</th>\n",
              "      <th>start_weekday</th>\n",
              "      <th>...</th>\n",
              "      <th>end_weekday</th>\n",
              "      <th>end_dayofyear</th>\n",
              "      <th>type_ddos</th>\n",
              "      <th>type_normal</th>\n",
              "      <th>type_sus</th>\n",
              "      <th>type</th>\n",
              "      <th>is_dns</th>\n",
              "      <th>is_ntp</th>\n",
              "      <th>is_coap</th>\n",
              "      <th>is_ssdp</th>\n",
              "    </tr>\n",
              "  </thead>\n",
              "  <tbody>\n",
              "    <tr>\n",
              "      <th>0</th>\n",
              "      <td>High volume traffic</td>\n",
              "      <td>1</td>\n",
              "      <td>4500</td>\n",
              "      <td>55600.0</td>\n",
              "      <td>73.0</td>\n",
              "      <td>1383.0</td>\n",
              "      <td>6.0</td>\n",
              "      <td>6.0</td>\n",
              "      <td>-1.000000e+00</td>\n",
              "      <td>0.000000</td>\n",
              "      <td>...</td>\n",
              "      <td>0.000000</td>\n",
              "      <td>-0.601624</td>\n",
              "      <td>False</td>\n",
              "      <td>True</td>\n",
              "      <td>False</td>\n",
              "      <td>normal</td>\n",
              "      <td>0</td>\n",
              "      <td>0</td>\n",
              "      <td>0</td>\n",
              "      <td>0</td>\n",
              "    </tr>\n",
              "    <tr>\n",
              "      <th>1</th>\n",
              "      <td>High volume traffic</td>\n",
              "      <td>2</td>\n",
              "      <td>4500</td>\n",
              "      <td>63500.0</td>\n",
              "      <td>90.0</td>\n",
              "      <td>1506.0</td>\n",
              "      <td>1.0</td>\n",
              "      <td>1.0</td>\n",
              "      <td>-1.000000e+00</td>\n",
              "      <td>0.000000</td>\n",
              "      <td>...</td>\n",
              "      <td>0.000000</td>\n",
              "      <td>-0.601624</td>\n",
              "      <td>False</td>\n",
              "      <td>True</td>\n",
              "      <td>False</td>\n",
              "      <td>normal</td>\n",
              "      <td>0</td>\n",
              "      <td>0</td>\n",
              "      <td>0</td>\n",
              "      <td>0</td>\n",
              "    </tr>\n",
              "    <tr>\n",
              "      <th>2</th>\n",
              "      <td>High volume traffic</td>\n",
              "      <td>3</td>\n",
              "      <td>1200</td>\n",
              "      <td>59700.0</td>\n",
              "      <td>79.0</td>\n",
              "      <td>1399.0</td>\n",
              "      <td>1.0</td>\n",
              "      <td>1.0</td>\n",
              "      <td>-1.000000e+00</td>\n",
              "      <td>0.000000</td>\n",
              "      <td>...</td>\n",
              "      <td>0.000000</td>\n",
              "      <td>-0.601624</td>\n",
              "      <td>False</td>\n",
              "      <td>True</td>\n",
              "      <td>False</td>\n",
              "      <td>normal</td>\n",
              "      <td>0</td>\n",
              "      <td>0</td>\n",
              "      <td>0</td>\n",
              "      <td>0</td>\n",
              "    </tr>\n",
              "    <tr>\n",
              "      <th>3</th>\n",
              "      <td>High volume traffic</td>\n",
              "      <td>3</td>\n",
              "      <td>1200</td>\n",
              "      <td>65700.0</td>\n",
              "      <td>86.0</td>\n",
              "      <td>1399.0</td>\n",
              "      <td>1.0</td>\n",
              "      <td>1.0</td>\n",
              "      <td>-1.000000e+00</td>\n",
              "      <td>0.000000</td>\n",
              "      <td>...</td>\n",
              "      <td>0.000000</td>\n",
              "      <td>-0.601624</td>\n",
              "      <td>False</td>\n",
              "      <td>True</td>\n",
              "      <td>False</td>\n",
              "      <td>normal</td>\n",
              "      <td>0</td>\n",
              "      <td>0</td>\n",
              "      <td>0</td>\n",
              "      <td>0</td>\n",
              "    </tr>\n",
              "    <tr>\n",
              "      <th>4</th>\n",
              "      <td>High volume traffic</td>\n",
              "      <td>2</td>\n",
              "      <td>4500</td>\n",
              "      <td>59500.0</td>\n",
              "      <td>85.0</td>\n",
              "      <td>1486.0</td>\n",
              "      <td>1.0</td>\n",
              "      <td>1.0</td>\n",
              "      <td>-1.000000e+00</td>\n",
              "      <td>0.000000</td>\n",
              "      <td>...</td>\n",
              "      <td>0.000000</td>\n",
              "      <td>-0.601624</td>\n",
              "      <td>False</td>\n",
              "      <td>True</td>\n",
              "      <td>False</td>\n",
              "      <td>normal</td>\n",
              "      <td>0</td>\n",
              "      <td>0</td>\n",
              "      <td>0</td>\n",
              "      <td>0</td>\n",
              "    </tr>\n",
              "    <tr>\n",
              "      <th>...</th>\n",
              "      <td>...</td>\n",
              "      <td>...</td>\n",
              "      <td>...</td>\n",
              "      <td>...</td>\n",
              "      <td>...</td>\n",
              "      <td>...</td>\n",
              "      <td>...</td>\n",
              "      <td>...</td>\n",
              "      <td>...</td>\n",
              "      <td>...</td>\n",
              "      <td>...</td>\n",
              "      <td>...</td>\n",
              "      <td>...</td>\n",
              "      <td>...</td>\n",
              "      <td>...</td>\n",
              "      <td>...</td>\n",
              "      <td>...</td>\n",
              "      <td>...</td>\n",
              "      <td>...</td>\n",
              "      <td>...</td>\n",
              "      <td>...</td>\n",
              "    </tr>\n",
              "    <tr>\n",
              "      <th>586631</th>\n",
              "      <td>High volume traffic</td>\n",
              "      <td>16816</td>\n",
              "      <td>0</td>\n",
              "      <td>56800.0</td>\n",
              "      <td>68.0</td>\n",
              "      <td>1293.0</td>\n",
              "      <td>24.0</td>\n",
              "      <td>25.0</td>\n",
              "      <td>1.224647e-16</td>\n",
              "      <td>0.433884</td>\n",
              "      <td>...</td>\n",
              "      <td>0.433884</td>\n",
              "      <td>0.903356</td>\n",
              "      <td>False</td>\n",
              "      <td>True</td>\n",
              "      <td>False</td>\n",
              "      <td>normal</td>\n",
              "      <td>0</td>\n",
              "      <td>0</td>\n",
              "      <td>0</td>\n",
              "      <td>0</td>\n",
              "    </tr>\n",
              "    <tr>\n",
              "      <th>586634</th>\n",
              "      <td>High volume traffic</td>\n",
              "      <td>23</td>\n",
              "      <td>48529</td>\n",
              "      <td>73100.0</td>\n",
              "      <td>85.0</td>\n",
              "      <td>1185.0</td>\n",
              "      <td>2.0</td>\n",
              "      <td>3.0</td>\n",
              "      <td>1.224647e-16</td>\n",
              "      <td>0.433884</td>\n",
              "      <td>...</td>\n",
              "      <td>0.433884</td>\n",
              "      <td>0.903356</td>\n",
              "      <td>False</td>\n",
              "      <td>True</td>\n",
              "      <td>False</td>\n",
              "      <td>normal</td>\n",
              "      <td>0</td>\n",
              "      <td>0</td>\n",
              "      <td>0</td>\n",
              "      <td>0</td>\n",
              "    </tr>\n",
              "    <tr>\n",
              "      <th>586635</th>\n",
              "      <td>High volume traffic</td>\n",
              "      <td>17827</td>\n",
              "      <td>0</td>\n",
              "      <td>52200.0</td>\n",
              "      <td>74.0</td>\n",
              "      <td>1506.0</td>\n",
              "      <td>1.0</td>\n",
              "      <td>1.0</td>\n",
              "      <td>1.224647e-16</td>\n",
              "      <td>0.433884</td>\n",
              "      <td>...</td>\n",
              "      <td>0.433884</td>\n",
              "      <td>0.903356</td>\n",
              "      <td>False</td>\n",
              "      <td>True</td>\n",
              "      <td>False</td>\n",
              "      <td>normal</td>\n",
              "      <td>0</td>\n",
              "      <td>0</td>\n",
              "      <td>0</td>\n",
              "      <td>0</td>\n",
              "    </tr>\n",
              "    <tr>\n",
              "      <th>586636</th>\n",
              "      <td>High volume traffic</td>\n",
              "      <td>23</td>\n",
              "      <td>61167</td>\n",
              "      <td>60000.0</td>\n",
              "      <td>67.0</td>\n",
              "      <td>1257.0</td>\n",
              "      <td>5.0</td>\n",
              "      <td>3.0</td>\n",
              "      <td>1.224647e-16</td>\n",
              "      <td>0.433884</td>\n",
              "      <td>...</td>\n",
              "      <td>0.433884</td>\n",
              "      <td>0.903356</td>\n",
              "      <td>False</td>\n",
              "      <td>True</td>\n",
              "      <td>False</td>\n",
              "      <td>normal</td>\n",
              "      <td>0</td>\n",
              "      <td>0</td>\n",
              "      <td>0</td>\n",
              "      <td>0</td>\n",
              "    </tr>\n",
              "    <tr>\n",
              "      <th>586637</th>\n",
              "      <td>High volume traffic</td>\n",
              "      <td>17466</td>\n",
              "      <td>0</td>\n",
              "      <td>51300.0</td>\n",
              "      <td>64.0</td>\n",
              "      <td>1325.0</td>\n",
              "      <td>1.0</td>\n",
              "      <td>1.0</td>\n",
              "      <td>1.224647e-16</td>\n",
              "      <td>0.433884</td>\n",
              "      <td>...</td>\n",
              "      <td>0.433884</td>\n",
              "      <td>0.903356</td>\n",
              "      <td>False</td>\n",
              "      <td>True</td>\n",
              "      <td>False</td>\n",
              "      <td>normal</td>\n",
              "      <td>0</td>\n",
              "      <td>0</td>\n",
              "      <td>0</td>\n",
              "      <td>0</td>\n",
              "    </tr>\n",
              "  </tbody>\n",
              "</table>\n",
              "<p>586636 rows × 22 columns</p>\n",
              "</div>"
            ],
            "text/plain": [
              "                attack_code  victim_ip  port_number  packet_speed  data_speed  \\\n",
              "0       High volume traffic          1         4500       55600.0        73.0   \n",
              "1       High volume traffic          2         4500       63500.0        90.0   \n",
              "2       High volume traffic          3         1200       59700.0        79.0   \n",
              "3       High volume traffic          3         1200       65700.0        86.0   \n",
              "4       High volume traffic          2         4500       59500.0        85.0   \n",
              "...                     ...        ...          ...           ...         ...   \n",
              "586631  High volume traffic      16816            0       56800.0        68.0   \n",
              "586634  High volume traffic         23        48529       73100.0        85.0   \n",
              "586635  High volume traffic      17827            0       52200.0        74.0   \n",
              "586636  High volume traffic         23        61167       60000.0        67.0   \n",
              "586637  High volume traffic      17466            0       51300.0        64.0   \n",
              "\n",
              "        packet_len  source_ip  avg_source_ip    start_hour  start_weekday  \\\n",
              "0           1383.0        6.0            6.0 -1.000000e+00       0.000000   \n",
              "1           1506.0        1.0            1.0 -1.000000e+00       0.000000   \n",
              "2           1399.0        1.0            1.0 -1.000000e+00       0.000000   \n",
              "3           1399.0        1.0            1.0 -1.000000e+00       0.000000   \n",
              "4           1486.0        1.0            1.0 -1.000000e+00       0.000000   \n",
              "...            ...        ...            ...           ...            ...   \n",
              "586631      1293.0       24.0           25.0  1.224647e-16       0.433884   \n",
              "586634      1185.0        2.0            3.0  1.224647e-16       0.433884   \n",
              "586635      1506.0        1.0            1.0  1.224647e-16       0.433884   \n",
              "586636      1257.0        5.0            3.0  1.224647e-16       0.433884   \n",
              "586637      1325.0        1.0            1.0  1.224647e-16       0.433884   \n",
              "\n",
              "        ...  end_weekday  end_dayofyear  type_ddos  type_normal  type_sus  \\\n",
              "0       ...     0.000000      -0.601624      False         True     False   \n",
              "1       ...     0.000000      -0.601624      False         True     False   \n",
              "2       ...     0.000000      -0.601624      False         True     False   \n",
              "3       ...     0.000000      -0.601624      False         True     False   \n",
              "4       ...     0.000000      -0.601624      False         True     False   \n",
              "...     ...          ...            ...        ...          ...       ...   \n",
              "586631  ...     0.433884       0.903356      False         True     False   \n",
              "586634  ...     0.433884       0.903356      False         True     False   \n",
              "586635  ...     0.433884       0.903356      False         True     False   \n",
              "586636  ...     0.433884       0.903356      False         True     False   \n",
              "586637  ...     0.433884       0.903356      False         True     False   \n",
              "\n",
              "          type  is_dns is_ntp  is_coap  is_ssdp  \n",
              "0       normal       0      0        0        0  \n",
              "1       normal       0      0        0        0  \n",
              "2       normal       0      0        0        0  \n",
              "3       normal       0      0        0        0  \n",
              "4       normal       0      0        0        0  \n",
              "...        ...     ...    ...      ...      ...  \n",
              "586631  normal       0      0        0        0  \n",
              "586634  normal       0      0        0        0  \n",
              "586635  normal       0      0        0        0  \n",
              "586636  normal       0      0        0        0  \n",
              "586637  normal       0      0        0        0  \n",
              "\n",
              "[586636 rows x 22 columns]"
            ]
          },
          "execution_count": 133,
          "metadata": {},
          "output_type": "execute_result"
        }
      ],
      "source": [
        "add_protocol_features(df)"
      ]
    },
    {
      "cell_type": "code",
      "execution_count": 134,
      "metadata": {
        "colab": {
          "base_uri": "https://localhost:8080/"
        },
        "id": "7sE6Xn4wi-Zp",
        "outputId": "17a1ea91-4e2c-44b2-b62b-9f2136a39c7c"
      },
      "outputs": [
        {
          "data": {
            "text/plain": [
              "{'is_dns': np.int64(16015),\n",
              " 'is_ntp': np.int64(593),\n",
              " 'is_coap': np.int64(1),\n",
              " 'is_ssdp': np.int64(30)}"
            ]
          },
          "execution_count": 134,
          "metadata": {},
          "output_type": "execute_result"
        }
      ],
      "source": [
        "def count_protocols(df):\n",
        "    protocols = ['is_dns', 'is_ntp', 'is_coap', 'is_ssdp']\n",
        "    protocol_counts = {}\n",
        "    for proto in protocols:\n",
        "        protocol_counts[proto] = df[proto].sum()\n",
        "    return protocol_counts\n",
        "\n",
        "protocol_counts = count_protocols(df)\n",
        "protocol_counts\n"
      ]
    },
    {
      "cell_type": "code",
      "execution_count": 135,
      "metadata": {
        "colab": {
          "base_uri": "https://localhost:8080/",
          "height": 342
        },
        "id": "gYKjPYA4m4Td",
        "outputId": "320f5f32-3ca1-4547-b56f-780154e6ea22"
      },
      "outputs": [
        {
          "data": {
            "text/html": [
              "<div>\n",
              "<style scoped>\n",
              "    .dataframe tbody tr th:only-of-type {\n",
              "        vertical-align: middle;\n",
              "    }\n",
              "\n",
              "    .dataframe tbody tr th {\n",
              "        vertical-align: top;\n",
              "    }\n",
              "\n",
              "    .dataframe thead th {\n",
              "        text-align: right;\n",
              "    }\n",
              "</style>\n",
              "<table border=\"1\" class=\"dataframe\">\n",
              "  <thead>\n",
              "    <tr style=\"text-align: right;\">\n",
              "      <th></th>\n",
              "      <th>attack_code</th>\n",
              "      <th>victim_ip</th>\n",
              "      <th>port_number</th>\n",
              "      <th>packet_speed</th>\n",
              "      <th>data_speed</th>\n",
              "      <th>packet_len</th>\n",
              "      <th>source_ip</th>\n",
              "      <th>avg_source_ip</th>\n",
              "      <th>start_hour</th>\n",
              "      <th>start_weekday</th>\n",
              "      <th>...</th>\n",
              "      <th>end_weekday</th>\n",
              "      <th>end_dayofyear</th>\n",
              "      <th>type_ddos</th>\n",
              "      <th>type_normal</th>\n",
              "      <th>type_sus</th>\n",
              "      <th>type</th>\n",
              "      <th>is_dns</th>\n",
              "      <th>is_ntp</th>\n",
              "      <th>is_coap</th>\n",
              "      <th>is_ssdp</th>\n",
              "    </tr>\n",
              "  </thead>\n",
              "  <tbody>\n",
              "    <tr>\n",
              "      <th>0</th>\n",
              "      <td>High volume traffic</td>\n",
              "      <td>1</td>\n",
              "      <td>4500</td>\n",
              "      <td>55600.0</td>\n",
              "      <td>73.0</td>\n",
              "      <td>1383.0</td>\n",
              "      <td>6.0</td>\n",
              "      <td>6.0</td>\n",
              "      <td>-1.0</td>\n",
              "      <td>0.0</td>\n",
              "      <td>...</td>\n",
              "      <td>0.0</td>\n",
              "      <td>-0.601624</td>\n",
              "      <td>False</td>\n",
              "      <td>True</td>\n",
              "      <td>False</td>\n",
              "      <td>normal</td>\n",
              "      <td>0</td>\n",
              "      <td>0</td>\n",
              "      <td>0</td>\n",
              "      <td>0</td>\n",
              "    </tr>\n",
              "    <tr>\n",
              "      <th>1</th>\n",
              "      <td>High volume traffic</td>\n",
              "      <td>2</td>\n",
              "      <td>4500</td>\n",
              "      <td>63500.0</td>\n",
              "      <td>90.0</td>\n",
              "      <td>1506.0</td>\n",
              "      <td>1.0</td>\n",
              "      <td>1.0</td>\n",
              "      <td>-1.0</td>\n",
              "      <td>0.0</td>\n",
              "      <td>...</td>\n",
              "      <td>0.0</td>\n",
              "      <td>-0.601624</td>\n",
              "      <td>False</td>\n",
              "      <td>True</td>\n",
              "      <td>False</td>\n",
              "      <td>normal</td>\n",
              "      <td>0</td>\n",
              "      <td>0</td>\n",
              "      <td>0</td>\n",
              "      <td>0</td>\n",
              "    </tr>\n",
              "    <tr>\n",
              "      <th>2</th>\n",
              "      <td>High volume traffic</td>\n",
              "      <td>3</td>\n",
              "      <td>1200</td>\n",
              "      <td>59700.0</td>\n",
              "      <td>79.0</td>\n",
              "      <td>1399.0</td>\n",
              "      <td>1.0</td>\n",
              "      <td>1.0</td>\n",
              "      <td>-1.0</td>\n",
              "      <td>0.0</td>\n",
              "      <td>...</td>\n",
              "      <td>0.0</td>\n",
              "      <td>-0.601624</td>\n",
              "      <td>False</td>\n",
              "      <td>True</td>\n",
              "      <td>False</td>\n",
              "      <td>normal</td>\n",
              "      <td>0</td>\n",
              "      <td>0</td>\n",
              "      <td>0</td>\n",
              "      <td>0</td>\n",
              "    </tr>\n",
              "    <tr>\n",
              "      <th>3</th>\n",
              "      <td>High volume traffic</td>\n",
              "      <td>3</td>\n",
              "      <td>1200</td>\n",
              "      <td>65700.0</td>\n",
              "      <td>86.0</td>\n",
              "      <td>1399.0</td>\n",
              "      <td>1.0</td>\n",
              "      <td>1.0</td>\n",
              "      <td>-1.0</td>\n",
              "      <td>0.0</td>\n",
              "      <td>...</td>\n",
              "      <td>0.0</td>\n",
              "      <td>-0.601624</td>\n",
              "      <td>False</td>\n",
              "      <td>True</td>\n",
              "      <td>False</td>\n",
              "      <td>normal</td>\n",
              "      <td>0</td>\n",
              "      <td>0</td>\n",
              "      <td>0</td>\n",
              "      <td>0</td>\n",
              "    </tr>\n",
              "    <tr>\n",
              "      <th>4</th>\n",
              "      <td>High volume traffic</td>\n",
              "      <td>2</td>\n",
              "      <td>4500</td>\n",
              "      <td>59500.0</td>\n",
              "      <td>85.0</td>\n",
              "      <td>1486.0</td>\n",
              "      <td>1.0</td>\n",
              "      <td>1.0</td>\n",
              "      <td>-1.0</td>\n",
              "      <td>0.0</td>\n",
              "      <td>...</td>\n",
              "      <td>0.0</td>\n",
              "      <td>-0.601624</td>\n",
              "      <td>False</td>\n",
              "      <td>True</td>\n",
              "      <td>False</td>\n",
              "      <td>normal</td>\n",
              "      <td>0</td>\n",
              "      <td>0</td>\n",
              "      <td>0</td>\n",
              "      <td>0</td>\n",
              "    </tr>\n",
              "  </tbody>\n",
              "</table>\n",
              "<p>5 rows × 22 columns</p>\n",
              "</div>"
            ],
            "text/plain": [
              "           attack_code  victim_ip  port_number  packet_speed  data_speed  \\\n",
              "0  High volume traffic          1         4500       55600.0        73.0   \n",
              "1  High volume traffic          2         4500       63500.0        90.0   \n",
              "2  High volume traffic          3         1200       59700.0        79.0   \n",
              "3  High volume traffic          3         1200       65700.0        86.0   \n",
              "4  High volume traffic          2         4500       59500.0        85.0   \n",
              "\n",
              "   packet_len  source_ip  avg_source_ip  start_hour  start_weekday  ...  \\\n",
              "0      1383.0        6.0            6.0        -1.0            0.0  ...   \n",
              "1      1506.0        1.0            1.0        -1.0            0.0  ...   \n",
              "2      1399.0        1.0            1.0        -1.0            0.0  ...   \n",
              "3      1399.0        1.0            1.0        -1.0            0.0  ...   \n",
              "4      1486.0        1.0            1.0        -1.0            0.0  ...   \n",
              "\n",
              "   end_weekday  end_dayofyear  type_ddos  type_normal  type_sus    type  \\\n",
              "0          0.0      -0.601624      False         True     False  normal   \n",
              "1          0.0      -0.601624      False         True     False  normal   \n",
              "2          0.0      -0.601624      False         True     False  normal   \n",
              "3          0.0      -0.601624      False         True     False  normal   \n",
              "4          0.0      -0.601624      False         True     False  normal   \n",
              "\n",
              "   is_dns is_ntp  is_coap  is_ssdp  \n",
              "0       0      0        0        0  \n",
              "1       0      0        0        0  \n",
              "2       0      0        0        0  \n",
              "3       0      0        0        0  \n",
              "4       0      0        0        0  \n",
              "\n",
              "[5 rows x 22 columns]"
            ]
          },
          "execution_count": 135,
          "metadata": {},
          "output_type": "execute_result"
        }
      ],
      "source": [
        "df.head()"
      ]
    },
    {
      "cell_type": "markdown",
      "metadata": {},
      "source": [
        "Ports with largest attack rates"
      ]
    },
    {
      "cell_type": "code",
      "execution_count": 136,
      "metadata": {
        "id": "u33UYS6JmndZ"
      },
      "outputs": [
        {
          "data": {
            "text/plain": [
              "port_number\n",
              "1       1.0\n",
              "12      1.0\n",
              "68      1.0\n",
              "99      1.0\n",
              "120     1.0\n",
              "123     1.0\n",
              "231     1.0\n",
              "514     1.0\n",
              "1116    1.0\n",
              "1338    1.0\n",
              "Name: type_ddos, dtype: float64"
            ]
          },
          "execution_count": 136,
          "metadata": {},
          "output_type": "execute_result"
        }
      ],
      "source": [
        "protocol_attack_rates = df.groupby('port_number')['type_ddos'].mean()\n",
        "protocol_attack_rates\n",
        "top_attack_protocols = protocol_attack_rates.nlargest(10)\n",
        "top_attack_protocols"
      ]
    },
    {
      "cell_type": "markdown",
      "metadata": {
        "id": "_-y_DIOXtDbS"
      },
      "source": [
        "## TCP/UDP"
      ]
    },
    {
      "cell_type": "code",
      "execution_count": 137,
      "metadata": {
        "colab": {
          "base_uri": "https://localhost:8080/"
        },
        "id": "JJRQdthqty6q",
        "outputId": "d9c857dc-a36a-4c5b-c341-d903d80abcbf"
      },
      "outputs": [
        {
          "data": {
            "text/plain": [
              "Index(['attack_code', 'victim_ip', 'port_number', 'packet_speed', 'data_speed',\n",
              "       'packet_len', 'source_ip', 'avg_source_ip', 'start_hour',\n",
              "       'start_weekday', 'start_dayofyear', 'end_hour', 'end_weekday',\n",
              "       'end_dayofyear', 'type_ddos', 'type_normal', 'type_sus', 'type',\n",
              "       'is_dns', 'is_ntp', 'is_coap', 'is_ssdp'],\n",
              "      dtype='object')"
            ]
          },
          "execution_count": 137,
          "metadata": {},
          "output_type": "execute_result"
        }
      ],
      "source": [
        "df.columns"
      ]
    },
    {
      "cell_type": "markdown",
      "metadata": {},
      "source": [
        "Multi-protocol attack patterns"
      ]
    },
    {
      "cell_type": "code",
      "execution_count": 138,
      "metadata": {},
      "outputs": [],
      "source": [
        "df['multi_protocol_attack'] = (\n",
        "    (df['is_dns'] + df['is_ntp'] + df['is_ssdp']) > 1\n",
        ").astype(int)\n"
      ]
    },
    {
      "cell_type": "code",
      "execution_count": 139,
      "metadata": {},
      "outputs": [
        {
          "name": "stdout",
          "output_type": "stream",
          "text": [
            "0         0\n",
            "1         0\n",
            "2         0\n",
            "3         0\n",
            "4         0\n",
            "         ..\n",
            "586631    0\n",
            "586634    0\n",
            "586635    0\n",
            "586636    0\n",
            "586637    0\n",
            "Name: multi_protocol_attack, Length: 586636, dtype: int64\n"
          ]
        }
      ],
      "source": [
        "print(df['multi_protocol_attack'])"
      ]
    },
    {
      "cell_type": "code",
      "execution_count": 140,
      "metadata": {},
      "outputs": [
        {
          "name": "stdout",
          "output_type": "stream",
          "text": [
            "[0]\n"
          ]
        }
      ],
      "source": [
        "unique_multi_protocol_attack = df['multi_protocol_attack'].unique()\n",
        "print(unique_multi_protocol_attack)"
      ]
    },
    {
      "cell_type": "markdown",
      "metadata": {},
      "source": [
        "Only unique value is 0."
      ]
    },
    {
      "cell_type": "markdown",
      "metadata": {},
      "source": [
        "Upon looking at the data again, it's no surprise that there is no multoprotocol attack."
      ]
    },
    {
      "cell_type": "markdown",
      "metadata": {},
      "source": [
        "UDP-based amplification risk"
      ]
    },
    {
      "cell_type": "markdown",
      "metadata": {},
      "source": [
        "UDP exploit"
      ]
    },
    {
      "cell_type": "code",
      "execution_count": 141,
      "metadata": {},
      "outputs": [],
      "source": [
        "df['udp_amp_risk'] = (\n",
        "    df['is_dns'] | df['is_ntp'] | df['is_ssdp']\n",
        ") * (df['data_speed'] / (df['packet_speed'] + 1e-6))"
      ]
    },
    {
      "cell_type": "code",
      "execution_count": 142,
      "metadata": {},
      "outputs": [
        {
          "data": {
            "text/plain": [
              "0         0.0\n",
              "1         0.0\n",
              "2         0.0\n",
              "3         0.0\n",
              "4         0.0\n",
              "         ... \n",
              "586631    0.0\n",
              "586634    0.0\n",
              "586635    0.0\n",
              "586636    0.0\n",
              "586637    0.0\n",
              "Name: udp_amp_risk, Length: 586636, dtype: float64"
            ]
          },
          "execution_count": 142,
          "metadata": {},
          "output_type": "execute_result"
        }
      ],
      "source": [
        "df['udp_amp_risk']"
      ]
    },
    {
      "cell_type": "code",
      "execution_count": 143,
      "metadata": {},
      "outputs": [
        {
          "name": "stdout",
          "output_type": "stream",
          "text": [
            "[0.00000000e+00 3.37349396e-04 7.92079227e-05 ... 1.17079355e-03\n",
            " 1.03356212e-03 7.21500692e-05]\n"
          ]
        }
      ],
      "source": [
        "unique_udp_amp_risk = df['udp_amp_risk'].unique()\n",
        "print(unique_udp_amp_risk)"
      ]
    },
    {
      "cell_type": "markdown",
      "metadata": {},
      "source": [
        "Extracting information wether the attacks may target critical services such as webservers."
      ]
    },
    {
      "cell_type": "markdown",
      "metadata": {},
      "source": [
        "Examined ports:\n",
        "\n",
        "Target web\n",
        "- 80 HTTP\n",
        "- 443 HTTPS\n",
        "- 8080 alternative HTTP services \n",
        "\n",
        "Target database\n",
        "- 3306 MySQL\n",
        "- 5432 PostgresSQL\n",
        "- 27017 MongoDB"
      ]
    },
    {
      "cell_type": "code",
      "execution_count": 144,
      "metadata": {},
      "outputs": [],
      "source": [
        "df['targets_web'] = df['port_number'].isin([80, 443, 8080]).astype(int)\n",
        "df['targets_db'] = df['port_number'].isin([3306, 5432, 27017]).astype(int)"
      ]
    },
    {
      "cell_type": "code",
      "execution_count": 145,
      "metadata": {},
      "outputs": [
        {
          "name": "stdout",
          "output_type": "stream",
          "text": [
            "0         0\n",
            "1         0\n",
            "2         0\n",
            "3         0\n",
            "4         0\n",
            "         ..\n",
            "586631    0\n",
            "586634    0\n",
            "586635    0\n",
            "586636    0\n",
            "586637    0\n",
            "Name: targets_web, Length: 586636, dtype: int64\n"
          ]
        }
      ],
      "source": [
        "print(df['targets_web'])"
      ]
    },
    {
      "cell_type": "code",
      "execution_count": 146,
      "metadata": {},
      "outputs": [
        {
          "name": "stdout",
          "output_type": "stream",
          "text": [
            "62941\n"
          ]
        }
      ],
      "source": [
        "print((df['targets_web'] == 1).sum().sum())"
      ]
    },
    {
      "cell_type": "code",
      "execution_count": 147,
      "metadata": {},
      "outputs": [
        {
          "name": "stdout",
          "output_type": "stream",
          "text": [
            "0\n"
          ]
        }
      ],
      "source": [
        "print((df['targets_db'] == 1).sum().sum())"
      ]
    },
    {
      "cell_type": "markdown",
      "metadata": {},
      "source": [
        "No database target, but sinificant amount web targets."
      ]
    },
    {
      "cell_type": "markdown",
      "metadata": {},
      "source": [
        "Ephemeral port floods\n",
        "A network attack where a large number of requests are sent to temporary ports. These ports have the number of >49152."
      ]
    },
    {
      "cell_type": "code",
      "execution_count": 148,
      "metadata": {
        "id": "6zjHZSw_uQ4e"
      },
      "outputs": [],
      "source": [
        "df['ephemeral_flood'] = (\n",
        "    (df['port_number'] > 49152) &\n",
        "    (df['packet_speed'] > df['packet_speed'].quantile(0.99))\n",
        ").astype(int)"
      ]
    },
    {
      "cell_type": "code",
      "execution_count": 149,
      "metadata": {},
      "outputs": [
        {
          "name": "stdout",
          "output_type": "stream",
          "text": [
            "[0 1]\n"
          ]
        }
      ],
      "source": [
        "ephemeral_flood = df['ephemeral_flood'].unique()\n",
        "print(ephemeral_flood)"
      ]
    },
    {
      "cell_type": "code",
      "execution_count": 150,
      "metadata": {},
      "outputs": [
        {
          "name": "stdout",
          "output_type": "stream",
          "text": [
            "97\n"
          ]
        }
      ],
      "source": [
        "print((df['ephemeral_flood'] == 1).sum().sum())"
      ]
    },
    {
      "cell_type": "markdown",
      "metadata": {},
      "source": [
        "Small number of ephemeral floods."
      ]
    },
    {
      "cell_type": "markdown",
      "metadata": {},
      "source": [
        "Duration of attack"
      ]
    },
    {
      "cell_type": "code",
      "execution_count": 151,
      "metadata": {},
      "outputs": [],
      "source": [
        "df['attack_duration'] = (\n",
        "    (df['end_dayofyear'] - df['start_dayofyear']) * 86400 +\n",
        "    (df['end_hour'] - df['start_hour']) * 3600\n",
        ").abs()"
      ]
    },
    {
      "cell_type": "code",
      "execution_count": 152,
      "metadata": {},
      "outputs": [
        {
          "name": "stdout",
          "output_type": "stream",
          "text": [
            "[   0.          868.25143763  868.25143763  745.58441227  572.10704135\n",
            "  122.66702536  931.74856237  931.74856237  868.25143763  745.58441227\n",
            "  572.10704135  359.64152102  359.64152102  572.10704135 2545.58441227\n",
            "  572.10704135 1317.69145362  113.11286597 1800.          359.64152102\n",
            "  482.30854638   57.08359908  305.44984308  745.58441227  328.76331098\n",
            "  572.10704135  695.92492317  874.15733753 2545.58441227  122.66702536\n",
            " 2104.18604971 2412.37661091 6235.38290725 2352.06017179 2218.71057737\n",
            " 2088.26029399 1967.46130599 1910.98203793 1831.64183688 1811.12524231\n",
            " 1726.51502353 1638.13809701 1403.50369657 1379.15457201 1230.53088775\n",
            " 1154.92431508 1129.57988053 1078.72267385  874.15733753  746.6119147\n",
            "  482.30854638  645.51742947  620.43717884  595.44917648 1677.33297464\n",
            " 1800.         1317.69145362 2731.74856237  521.11255413  496.56728354\n",
            " 1340.40240418  447.87083825  423.73409336  352.25545642  328.76331098\n",
            " 1173.70128071]\n"
          ]
        }
      ],
      "source": [
        "unique_attack_durations = df['attack_duration'].unique()\n",
        "print(unique_attack_durations)"
      ]
    },
    {
      "cell_type": "code",
      "execution_count": 153,
      "metadata": {},
      "outputs": [
        {
          "name": "stdout",
          "output_type": "stream",
          "text": [
            "Max: 6235.3829072479575\n",
            "Avg: 343.49610359488923\n"
          ]
        }
      ],
      "source": [
        "#print(\"Min:\", df['attack_duration'].min())\n",
        "print(\"Max:\", df['attack_duration'].max())\n",
        "print(\"Avg:\", df['attack_duration'].mean())"
      ]
    },
    {
      "cell_type": "markdown",
      "metadata": {},
      "source": [
        "Hourly attack probability"
      ]
    },
    {
      "cell_type": "code",
      "execution_count": 154,
      "metadata": {},
      "outputs": [],
      "source": [
        "hourly_risk = df.groupby('start_hour')['type_ddos'].mean()\n",
        "df['hourly_risk'] = df['start_hour'].map(hourly_risk)"
      ]
    },
    {
      "cell_type": "code",
      "execution_count": 155,
      "metadata": {},
      "outputs": [
        {
          "name": "stdout",
          "output_type": "stream",
          "text": [
            "start_hour\n",
            "-1.000000e+00    0.366628\n",
            "-9.659258e-01    0.319764\n",
            "-9.659258e-01    0.072055\n",
            "-8.660254e-01    0.050741\n",
            "-8.660254e-01    0.098071\n",
            "-7.071068e-01    0.017589\n",
            "-7.071068e-01    0.151800\n",
            "-5.000000e-01    0.101401\n",
            "-5.000000e-01    0.027884\n",
            "-2.588190e-01    0.036141\n",
            "-2.588190e-01    0.022198\n",
            " 0.000000e+00    0.103243\n",
            " 1.224647e-16    0.132235\n",
            " 2.588190e-01    0.028386\n",
            " 2.588190e-01    0.042847\n",
            " 5.000000e-01    0.104265\n",
            " 7.071068e-01    0.227352\n",
            " 8.660254e-01    0.622151\n",
            " 8.660254e-01    0.082044\n",
            " 9.659258e-01    0.102342\n",
            " 1.000000e+00    0.296547\n",
            "Name: type_ddos, dtype: float64\n"
          ]
        }
      ],
      "source": [
        "print(hourly_risk)"
      ]
    },
    {
      "cell_type": "code",
      "execution_count": 156,
      "metadata": {},
      "outputs": [
        {
          "name": "stdout",
          "output_type": "stream",
          "text": [
            "[ 0.          0.78183148  0.97492791  0.43388374 -0.43388374 -0.97492791\n",
            " -0.78183148]\n"
          ]
        }
      ],
      "source": [
        "print(df['start_weekday'].unique())"
      ]
    },
    {
      "cell_type": "markdown",
      "metadata": {},
      "source": [
        "Packet size deviation"
      ]
    },
    {
      "cell_type": "code",
      "execution_count": 157,
      "metadata": {},
      "outputs": [],
      "source": [
        "global_avg_len = df['packet_len'].mean()\n",
        "df['size_anomaly'] = (df['packet_len'] - global_avg_len).abs() / global_avg_len"
      ]
    },
    {
      "cell_type": "code",
      "execution_count": 158,
      "metadata": {},
      "outputs": [
        {
          "name": "stdout",
          "output_type": "stream",
          "text": [
            "[0.41873738 0.5449158  0.43515083 ... 0.6194132  0.594793   0.47169214]\n"
          ]
        }
      ],
      "source": [
        "print(df['size_anomaly'].unique())"
      ]
    },
    {
      "cell_type": "markdown",
      "metadata": {},
      "source": [
        "Spped ratio anomaly"
      ]
    },
    {
      "cell_type": "code",
      "execution_count": 159,
      "metadata": {},
      "outputs": [],
      "source": [
        "df['speed_ratio'] = df['packet_speed'] / (df['data_speed'] + 1e-6)"
      ]
    },
    {
      "cell_type": "code",
      "execution_count": 160,
      "metadata": {},
      "outputs": [
        {
          "name": "stdout",
          "output_type": "stream",
          "text": [
            "[ 761.64386  705.55554  755.6962  ...  777.7004  1410.1449  2589.3618 ]\n"
          ]
        }
      ],
      "source": [
        "print(df['speed_ratio'].unique())"
      ]
    },
    {
      "cell_type": "markdown",
      "metadata": {},
      "source": [
        "Burst detection calculation with a rolling window of 5 observations for each victim IP adderess."
      ]
    },
    {
      "cell_type": "code",
      "execution_count": 161,
      "metadata": {
        "id": "PWRxX4FBuVQZ"
      },
      "outputs": [],
      "source": [
        "df['burst_score'] = df.groupby('victim_ip')['packet_speed'].transform(\n",
        "    lambda x: (x.rolling(5).std() / x.rolling(5).mean()).fillna(0)\n",
        ")"
      ]
    },
    {
      "cell_type": "code",
      "execution_count": 162,
      "metadata": {},
      "outputs": [
        {
          "name": "stdout",
          "output_type": "stream",
          "text": [
            "[0.         0.09363767 0.19053565 ... 0.13287881 0.14189142 0.03669251]\n"
          ]
        }
      ],
      "source": [
        "print(df['burst_score'].unique())"
      ]
    },
    {
      "cell_type": "code",
      "execution_count": 163,
      "metadata": {},
      "outputs": [
        {
          "name": "stdout",
          "output_type": "stream",
          "text": [
            "Number of NaN values in 'burst_score': 0\n"
          ]
        }
      ],
      "source": [
        "# fixing NaN values in burst_score (debug)\n",
        "nan_values_count = df['burst_score'].isnull().sum()\n",
        "print(\"Number of NaN values in 'burst_score':\", nan_values_count)"
      ]
    },
    {
      "cell_type": "markdown",
      "metadata": {},
      "source": [
        "Historical victim targeting"
      ]
    },
    {
      "cell_type": "code",
      "execution_count": 164,
      "metadata": {},
      "outputs": [],
      "source": [
        "victim_risk = df.groupby('victim_ip')['type_ddos'].mean()\n",
        "df['victim_risk'] = df['victim_ip'].map(victim_risk)"
      ]
    },
    {
      "cell_type": "code",
      "execution_count": 165,
      "metadata": {},
      "outputs": [
        {
          "name": "stdout",
          "output_type": "stream",
          "text": [
            "Victim IP\n",
            "IP_0151     134155\n",
            "IP_0040      21552\n",
            "IP_0202      21322\n",
            "IP_0006      19880\n",
            "IP_0010      18254\n",
            "             ...  \n",
            "IP_18192         1\n",
            "IP_18191         1\n",
            "IP_18189         1\n",
            "IP_18188         1\n",
            "IP_18187         1\n",
            "Name: count, Length: 18200, dtype: int64\n"
          ]
        }
      ],
      "source": [
        "ip_attack_counts = data['Victim IP'].value_counts()\n",
        "print(ip_attack_counts)"
      ]
    },
    {
      "cell_type": "markdown",
      "metadata": {},
      "source": [
        "Top IP attacks"
      ]
    },
    {
      "cell_type": "code",
      "execution_count": 166,
      "metadata": {},
      "outputs": [
        {
          "name": "stdout",
          "output_type": "stream",
          "text": [
            "Victim IP\n",
            "IP_0151     134155\n",
            "IP_0040      21552\n",
            "IP_0202      21322\n",
            "IP_0006      19880\n",
            "IP_0010      18254\n",
            "IP_0017      16867\n",
            "IP_0074      16759\n",
            "IP_0024      15194\n",
            "IP_0965      13592\n",
            "IP_15194     12608\n",
            "Name: count, dtype: int64\n"
          ]
        }
      ],
      "source": [
        "top_ip_attacks = ip_attack_counts.sort_values(ascending=False).head(10)\n",
        "print(top_ip_attacks)\n"
      ]
    },
    {
      "cell_type": "markdown",
      "metadata": {},
      "source": [
        "Port concentration"
      ]
    },
    {
      "cell_type": "code",
      "execution_count": 167,
      "metadata": {
        "id": "oOgwOz8TuaDV"
      },
      "outputs": [],
      "source": [
        "df['ports_per_victim'] = df.groupby('victim_ip')['port_number'].transform('nunique')"
      ]
    },
    {
      "cell_type": "code",
      "execution_count": 168,
      "metadata": {},
      "outputs": [
        {
          "name": "stdout",
          "output_type": "stream",
          "text": [
            "0           11\n",
            "1            5\n",
            "2          600\n",
            "3          600\n",
            "4            5\n",
            "          ... \n",
            "586631     713\n",
            "586634    2167\n",
            "586635       3\n",
            "586636    2167\n",
            "586637       3\n",
            "Name: ports_per_victim, Length: 586636, dtype: int64\n"
          ]
        }
      ],
      "source": [
        "print(df['ports_per_victim'])"
      ]
    },
    {
      "cell_type": "code",
      "execution_count": 169,
      "metadata": {},
      "outputs": [
        {
          "name": "stdout",
          "output_type": "stream",
          "text": [
            "ports_per_victim\n",
            "4199    134155\n",
            "1        28231\n",
            "4        25771\n",
            "3        25614\n",
            "6708     21552\n",
            "30       21393\n",
            "2        19957\n",
            "480      19880\n",
            "9314     18254\n",
            "2877     16867\n",
            "Name: count, dtype: int64\n"
          ]
        }
      ],
      "source": [
        "top_ports_per_victim = df['ports_per_victim'].value_counts().head(10)\n",
        "print(top_ports_per_victim)"
      ]
    },
    {
      "cell_type": "code",
      "execution_count": 170,
      "metadata": {
        "id": "8HjCnQUvudak"
      },
      "outputs": [],
      "source": [
        "# Protocol + temporal \n",
        "# df['dns_night_attack'] = (df['is_dns'] & (df['start_hour'].between(0, 4)).astype(int)).astype(int)\n",
        "\n",
        "# Packet size + protocol\n",
        "# df['small_udp_dns'] = (df['is_dns'] & df['udp_small_packets']).astype(int)"
      ]
    },
    {
      "cell_type": "code",
      "execution_count": 171,
      "metadata": {},
      "outputs": [],
      "source": [
        "from sklearn.ensemble import RandomForestClassifier"
      ]
    },
    {
      "cell_type": "markdown",
      "metadata": {},
      "source": [
        "Calculating feature importance based on the results of a RandomForestClassifier"
      ]
    },
    {
      "cell_type": "code",
      "execution_count": 177,
      "metadata": {
        "id": "XJG9DowKuoP5"
      },
      "outputs": [],
      "source": [
        "final_features = [\n",
        "    #protocol\n",
        "    'is_dns', 'is_ntp', 'multi_protocol_attack', 'udp_amp_risk',\n",
        "\n",
        "    #port and target\n",
        "    'targets_web', 'ephemeral_flood',\n",
        "\n",
        "    #time\n",
        "    'attack_duration',\n",
        "\n",
        "    # packet\n",
        "    'size_anomaly', 'burst_score',\n",
        "\n",
        "    # victim\n",
        "    'victim_risk'\n",
        "]\n",
        "\n",
        "X = df[final_features]\n",
        "y = df['type_ddos']\n",
        "model = RandomForestClassifier().fit(X, y)"
      ]
    },
    {
      "cell_type": "code",
      "execution_count": 180,
      "metadata": {
        "colab": {
          "base_uri": "https://localhost:8080/"
        },
        "id": "dq8wsHD2vvW-",
        "outputId": "1316ac92-dccc-4baf-e075-cf7018892d0e"
      },
      "outputs": [
        {
          "name": "stdout",
          "output_type": "stream",
          "text": [
            "is_dns: 0.018272559866808726\n",
            "is_ntp: 0.0005722807141386133\n",
            "multi_protocol_attack: 0.0\n",
            "udp_amp_risk: 0.040749282136956465\n",
            "targets_web: 0.012156672584530357\n",
            "ephemeral_flood: 1.084736043994393e-05\n",
            "attack_duration: 0.1114198884252385\n",
            "size_anomaly: 0.09761242750732974\n",
            "burst_score: 0.09028622428444721\n",
            "victim_risk: 0.6289198171201105\n"
          ]
        }
      ],
      "source": [
        "feature_importances = model.feature_importances_\n",
        "for i, feature_name in enumerate(final_features):\n",
        "  print(f\"{feature_name}: {feature_importances[i]}\")\n"
      ]
    },
    {
      "cell_type": "code",
      "execution_count": 181,
      "metadata": {},
      "outputs": [],
      "source": [
        "import matplotlib.pyplot as plt"
      ]
    },
    {
      "cell_type": "code",
      "execution_count": 182,
      "metadata": {
        "colab": {
          "base_uri": "https://localhost:8080/",
          "height": 607
        },
        "id": "jV_5bMR0v3C6",
        "outputId": "5774fffa-3447-4b4e-8f1a-c2fb40dc8711"
      },
      "outputs": [
        {
          "data": {
            "image/png": "[encoded data removed]",
            "text/plain": [
              "<Figure size 1000x600 with 1 Axes>"
            ]
          },
          "metadata": {},
          "output_type": "display_data"
        }
      ],
      "source": [
        "feature_names = final_features\n",
        "importances = feature_importances\n",
        "\n",
        "sorted_indices = np.argsort(importances)[::-1]\n",
        "sorted_names = [feature_names[i] for i in sorted_indices]\n",
        "sorted_importances = importances[sorted_indices]\n",
        "\n",
        "plt.figure(figsize=(10, 6))\n",
        "plt.bar(range(len(sorted_importances)), sorted_importances)\n",
        "plt.xticks(range(len(sorted_importances)), sorted_names, rotation=90) # rotation of text\n",
        "\n",
        "plt.xlabel(\"Features\", fontsize=12)\n",
        "plt.ylabel(\"Importance\", fontsize=12)\n",
        "plt.title(\"Feature importances\", fontsize=14)\n",
        "plt.tight_layout()\n",
        "\n",
        "plt.show()"
      ]
    },
    {
      "cell_type": "code",
      "execution_count": 184,
      "metadata": {
        "id": "6YlTDfA6n0fC"
      },
      "outputs": [],
      "source": [
        "#df = df.drop(columns=['multi_protocol_attack', 'ephemeral_flood', 'is_weekend', 'is_ntp'])\n"
      ]
    },
    {
      "cell_type": "markdown",
      "metadata": {
        "id": "6k5brkIT3c3C"
      },
      "source": [
        "## Feature transformation"
      ]
    },
    {
      "cell_type": "code",
      "execution_count": 185,
      "metadata": {
        "colab": {
          "base_uri": "https://localhost:8080/",
          "height": 342
        },
        "id": "THlXfyPk4qsq",
        "outputId": "33be7fcb-882f-4e88-9ce8-526c629d3752"
      },
      "outputs": [
        {
          "data": {
            "text/html": [
              "<div>\n",
              "<style scoped>\n",
              "    .dataframe tbody tr th:only-of-type {\n",
              "        vertical-align: middle;\n",
              "    }\n",
              "\n",
              "    .dataframe tbody tr th {\n",
              "        vertical-align: top;\n",
              "    }\n",
              "\n",
              "    .dataframe thead th {\n",
              "        text-align: right;\n",
              "    }\n",
              "</style>\n",
              "<table border=\"1\" class=\"dataframe\">\n",
              "  <thead>\n",
              "    <tr style=\"text-align: right;\">\n",
              "      <th></th>\n",
              "      <th>attack_code</th>\n",
              "      <th>victim_ip</th>\n",
              "      <th>port_number</th>\n",
              "      <th>packet_speed</th>\n",
              "      <th>data_speed</th>\n",
              "      <th>packet_len</th>\n",
              "      <th>source_ip</th>\n",
              "      <th>avg_source_ip</th>\n",
              "      <th>start_hour</th>\n",
              "      <th>start_weekday</th>\n",
              "      <th>...</th>\n",
              "      <th>targets_web</th>\n",
              "      <th>targets_db</th>\n",
              "      <th>ephemeral_flood</th>\n",
              "      <th>attack_duration</th>\n",
              "      <th>hourly_risk</th>\n",
              "      <th>size_anomaly</th>\n",
              "      <th>speed_ratio</th>\n",
              "      <th>burst_score</th>\n",
              "      <th>victim_risk</th>\n",
              "      <th>ports_per_victim</th>\n",
              "    </tr>\n",
              "  </thead>\n",
              "  <tbody>\n",
              "    <tr>\n",
              "      <th>0</th>\n",
              "      <td>High volume traffic</td>\n",
              "      <td>1</td>\n",
              "      <td>4500</td>\n",
              "      <td>55600.0</td>\n",
              "      <td>73.0</td>\n",
              "      <td>1383.0</td>\n",
              "      <td>6.0</td>\n",
              "      <td>6.0</td>\n",
              "      <td>-1.0</td>\n",
              "      <td>0.0</td>\n",
              "      <td>...</td>\n",
              "      <td>0</td>\n",
              "      <td>0</td>\n",
              "      <td>0</td>\n",
              "      <td>0.0</td>\n",
              "      <td>0.366628</td>\n",
              "      <td>0.418737</td>\n",
              "      <td>761.643860</td>\n",
              "      <td>0.0</td>\n",
              "      <td>0.02909</td>\n",
              "      <td>11</td>\n",
              "    </tr>\n",
              "    <tr>\n",
              "      <th>1</th>\n",
              "      <td>High volume traffic</td>\n",
              "      <td>2</td>\n",
              "      <td>4500</td>\n",
              "      <td>63500.0</td>\n",
              "      <td>90.0</td>\n",
              "      <td>1506.0</td>\n",
              "      <td>1.0</td>\n",
              "      <td>1.0</td>\n",
              "      <td>-1.0</td>\n",
              "      <td>0.0</td>\n",
              "      <td>...</td>\n",
              "      <td>0</td>\n",
              "      <td>0</td>\n",
              "      <td>0</td>\n",
              "      <td>0.0</td>\n",
              "      <td>0.366628</td>\n",
              "      <td>0.544916</td>\n",
              "      <td>705.555542</td>\n",
              "      <td>0.0</td>\n",
              "      <td>0.00000</td>\n",
              "      <td>5</td>\n",
              "    </tr>\n",
              "    <tr>\n",
              "      <th>2</th>\n",
              "      <td>High volume traffic</td>\n",
              "      <td>3</td>\n",
              "      <td>1200</td>\n",
              "      <td>59700.0</td>\n",
              "      <td>79.0</td>\n",
              "      <td>1399.0</td>\n",
              "      <td>1.0</td>\n",
              "      <td>1.0</td>\n",
              "      <td>-1.0</td>\n",
              "      <td>0.0</td>\n",
              "      <td>...</td>\n",
              "      <td>0</td>\n",
              "      <td>0</td>\n",
              "      <td>0</td>\n",
              "      <td>0.0</td>\n",
              "      <td>0.366628</td>\n",
              "      <td>0.435151</td>\n",
              "      <td>755.696228</td>\n",
              "      <td>0.0</td>\n",
              "      <td>0.00015</td>\n",
              "      <td>600</td>\n",
              "    </tr>\n",
              "    <tr>\n",
              "      <th>3</th>\n",
              "      <td>High volume traffic</td>\n",
              "      <td>3</td>\n",
              "      <td>1200</td>\n",
              "      <td>65700.0</td>\n",
              "      <td>86.0</td>\n",
              "      <td>1399.0</td>\n",
              "      <td>1.0</td>\n",
              "      <td>1.0</td>\n",
              "      <td>-1.0</td>\n",
              "      <td>0.0</td>\n",
              "      <td>...</td>\n",
              "      <td>0</td>\n",
              "      <td>0</td>\n",
              "      <td>0</td>\n",
              "      <td>0.0</td>\n",
              "      <td>0.366628</td>\n",
              "      <td>0.435151</td>\n",
              "      <td>763.953491</td>\n",
              "      <td>0.0</td>\n",
              "      <td>0.00015</td>\n",
              "      <td>600</td>\n",
              "    </tr>\n",
              "    <tr>\n",
              "      <th>4</th>\n",
              "      <td>High volume traffic</td>\n",
              "      <td>2</td>\n",
              "      <td>4500</td>\n",
              "      <td>59500.0</td>\n",
              "      <td>85.0</td>\n",
              "      <td>1486.0</td>\n",
              "      <td>1.0</td>\n",
              "      <td>1.0</td>\n",
              "      <td>-1.0</td>\n",
              "      <td>0.0</td>\n",
              "      <td>...</td>\n",
              "      <td>0</td>\n",
              "      <td>0</td>\n",
              "      <td>0</td>\n",
              "      <td>0.0</td>\n",
              "      <td>0.366628</td>\n",
              "      <td>0.524399</td>\n",
              "      <td>700.000000</td>\n",
              "      <td>0.0</td>\n",
              "      <td>0.00000</td>\n",
              "      <td>5</td>\n",
              "    </tr>\n",
              "  </tbody>\n",
              "</table>\n",
              "<p>5 rows × 34 columns</p>\n",
              "</div>"
            ],
            "text/plain": [
              "           attack_code  victim_ip  port_number  packet_speed  data_speed  \\\n",
              "0  High volume traffic          1         4500       55600.0        73.0   \n",
              "1  High volume traffic          2         4500       63500.0        90.0   \n",
              "2  High volume traffic          3         1200       59700.0        79.0   \n",
              "3  High volume traffic          3         1200       65700.0        86.0   \n",
              "4  High volume traffic          2         4500       59500.0        85.0   \n",
              "\n",
              "   packet_len  source_ip  avg_source_ip  start_hour  start_weekday  ...  \\\n",
              "0      1383.0        6.0            6.0        -1.0            0.0  ...   \n",
              "1      1506.0        1.0            1.0        -1.0            0.0  ...   \n",
              "2      1399.0        1.0            1.0        -1.0            0.0  ...   \n",
              "3      1399.0        1.0            1.0        -1.0            0.0  ...   \n",
              "4      1486.0        1.0            1.0        -1.0            0.0  ...   \n",
              "\n",
              "   targets_web  targets_db  ephemeral_flood  attack_duration  hourly_risk  \\\n",
              "0            0           0                0              0.0     0.366628   \n",
              "1            0           0                0              0.0     0.366628   \n",
              "2            0           0                0              0.0     0.366628   \n",
              "3            0           0                0              0.0     0.366628   \n",
              "4            0           0                0              0.0     0.366628   \n",
              "\n",
              "   size_anomaly  speed_ratio burst_score  victim_risk  ports_per_victim  \n",
              "0      0.418737   761.643860         0.0      0.02909                11  \n",
              "1      0.544916   705.555542         0.0      0.00000                 5  \n",
              "2      0.435151   755.696228         0.0      0.00015               600  \n",
              "3      0.435151   763.953491         0.0      0.00015               600  \n",
              "4      0.524399   700.000000         0.0      0.00000                 5  \n",
              "\n",
              "[5 rows x 34 columns]"
            ]
          },
          "execution_count": 185,
          "metadata": {},
          "output_type": "execute_result"
        }
      ],
      "source": [
        "df.head()"
      ]
    },
    {
      "cell_type": "code",
      "execution_count": 186,
      "metadata": {
        "colab": {
          "base_uri": "https://localhost:8080/"
        },
        "id": "uy8jbK4W5n9R",
        "outputId": "9f60ff8c-7b7e-4017-c998-d685282902e7"
      },
      "outputs": [
        {
          "data": {
            "text/plain": [
              "Index(['attack_code', 'victim_ip', 'port_number', 'packet_speed', 'data_speed',\n",
              "       'packet_len', 'source_ip', 'avg_source_ip', 'start_hour',\n",
              "       'start_weekday', 'start_dayofyear', 'end_hour', 'end_weekday',\n",
              "       'end_dayofyear', 'type_ddos', 'type_normal', 'type_sus', 'type',\n",
              "       'is_dns', 'is_ntp', 'is_coap', 'is_ssdp', 'multi_protocol_attack',\n",
              "       'udp_amp_risk', 'targets_web', 'targets_db', 'ephemeral_flood',\n",
              "       'attack_duration', 'hourly_risk', 'size_anomaly', 'speed_ratio',\n",
              "       'burst_score', 'victim_risk', 'ports_per_victim'],\n",
              "      dtype='object')"
            ]
          },
          "execution_count": 186,
          "metadata": {},
          "output_type": "execute_result"
        }
      ],
      "source": [
        "df.columns"
      ]
    },
    {
      "cell_type": "markdown",
      "metadata": {},
      "source": [
        "Applying logarithmic tranformation to specific features."
      ]
    },
    {
      "cell_type": "code",
      "execution_count": 187,
      "metadata": {
        "id": "k7QCooqr3fYo"
      },
      "outputs": [],
      "source": [
        "log_features = ['packet_speed', 'data_speed', 'source_ip', 'avg_source_ip']\n",
        "for feature in log_features:\n",
        "    df[f'log_{feature}'] = np.log1p(df[feature])"
      ]
    },
    {
      "cell_type": "code",
      "execution_count": 188,
      "metadata": {},
      "outputs": [
        {
          "name": "stdout",
          "output_type": "stream",
          "text": [
            "        packet_speed  data_speed  source_ip  avg_source_ip\n",
            "0            55600.0        73.0        6.0            6.0\n",
            "1            63500.0        90.0        1.0            1.0\n",
            "2            59700.0        79.0        1.0            1.0\n",
            "3            65700.0        86.0        1.0            1.0\n",
            "4            59500.0        85.0        1.0            1.0\n",
            "...              ...         ...        ...            ...\n",
            "586631       56800.0        68.0       24.0           25.0\n",
            "586634       73100.0        85.0        2.0            3.0\n",
            "586635       52200.0        74.0        1.0            1.0\n",
            "586636       60000.0        67.0        5.0            3.0\n",
            "586637       51300.0        64.0        1.0            1.0\n",
            "\n",
            "[586636 rows x 4 columns]\n"
          ]
        }
      ],
      "source": [
        "print(df[log_features])"
      ]
    },
    {
      "cell_type": "code",
      "execution_count": 189,
      "metadata": {
        "id": "KI3rfhgQ7inA"
      },
      "outputs": [
        {
          "data": {
            "text/html": [
              "<div>\n",
              "<style scoped>\n",
              "    .dataframe tbody tr th:only-of-type {\n",
              "        vertical-align: middle;\n",
              "    }\n",
              "\n",
              "    .dataframe tbody tr th {\n",
              "        vertical-align: top;\n",
              "    }\n",
              "\n",
              "    .dataframe thead th {\n",
              "        text-align: right;\n",
              "    }\n",
              "</style>\n",
              "<table border=\"1\" class=\"dataframe\">\n",
              "  <thead>\n",
              "    <tr style=\"text-align: right;\">\n",
              "      <th></th>\n",
              "      <th>attack_code</th>\n",
              "      <th>victim_ip</th>\n",
              "      <th>port_number</th>\n",
              "      <th>packet_speed</th>\n",
              "      <th>data_speed</th>\n",
              "      <th>packet_len</th>\n",
              "      <th>source_ip</th>\n",
              "      <th>avg_source_ip</th>\n",
              "      <th>start_hour</th>\n",
              "      <th>start_weekday</th>\n",
              "      <th>...</th>\n",
              "      <th>hourly_risk</th>\n",
              "      <th>size_anomaly</th>\n",
              "      <th>speed_ratio</th>\n",
              "      <th>burst_score</th>\n",
              "      <th>victim_risk</th>\n",
              "      <th>ports_per_victim</th>\n",
              "      <th>log_packet_speed</th>\n",
              "      <th>log_data_speed</th>\n",
              "      <th>log_source_ip</th>\n",
              "      <th>log_avg_source_ip</th>\n",
              "    </tr>\n",
              "  </thead>\n",
              "  <tbody>\n",
              "    <tr>\n",
              "      <th>0</th>\n",
              "      <td>High volume traffic</td>\n",
              "      <td>1</td>\n",
              "      <td>4500</td>\n",
              "      <td>55600.0</td>\n",
              "      <td>73.0</td>\n",
              "      <td>1383.0</td>\n",
              "      <td>6.0</td>\n",
              "      <td>6.0</td>\n",
              "      <td>-1.0</td>\n",
              "      <td>0.0</td>\n",
              "      <td>...</td>\n",
              "      <td>0.366628</td>\n",
              "      <td>0.418737</td>\n",
              "      <td>761.643860</td>\n",
              "      <td>0.0</td>\n",
              "      <td>0.02909</td>\n",
              "      <td>11</td>\n",
              "      <td>10.925957</td>\n",
              "      <td>4.304065</td>\n",
              "      <td>1.945910</td>\n",
              "      <td>1.945910</td>\n",
              "    </tr>\n",
              "    <tr>\n",
              "      <th>1</th>\n",
              "      <td>High volume traffic</td>\n",
              "      <td>2</td>\n",
              "      <td>4500</td>\n",
              "      <td>63500.0</td>\n",
              "      <td>90.0</td>\n",
              "      <td>1506.0</td>\n",
              "      <td>1.0</td>\n",
              "      <td>1.0</td>\n",
              "      <td>-1.0</td>\n",
              "      <td>0.0</td>\n",
              "      <td>...</td>\n",
              "      <td>0.366628</td>\n",
              "      <td>0.544916</td>\n",
              "      <td>705.555542</td>\n",
              "      <td>0.0</td>\n",
              "      <td>0.00000</td>\n",
              "      <td>5</td>\n",
              "      <td>11.058811</td>\n",
              "      <td>4.510859</td>\n",
              "      <td>0.693147</td>\n",
              "      <td>0.693147</td>\n",
              "    </tr>\n",
              "    <tr>\n",
              "      <th>2</th>\n",
              "      <td>High volume traffic</td>\n",
              "      <td>3</td>\n",
              "      <td>1200</td>\n",
              "      <td>59700.0</td>\n",
              "      <td>79.0</td>\n",
              "      <td>1399.0</td>\n",
              "      <td>1.0</td>\n",
              "      <td>1.0</td>\n",
              "      <td>-1.0</td>\n",
              "      <td>0.0</td>\n",
              "      <td>...</td>\n",
              "      <td>0.366628</td>\n",
              "      <td>0.435151</td>\n",
              "      <td>755.696228</td>\n",
              "      <td>0.0</td>\n",
              "      <td>0.00015</td>\n",
              "      <td>600</td>\n",
              "      <td>10.997104</td>\n",
              "      <td>4.382027</td>\n",
              "      <td>0.693147</td>\n",
              "      <td>0.693147</td>\n",
              "    </tr>\n",
              "    <tr>\n",
              "      <th>3</th>\n",
              "      <td>High volume traffic</td>\n",
              "      <td>3</td>\n",
              "      <td>1200</td>\n",
              "      <td>65700.0</td>\n",
              "      <td>86.0</td>\n",
              "      <td>1399.0</td>\n",
              "      <td>1.0</td>\n",
              "      <td>1.0</td>\n",
              "      <td>-1.0</td>\n",
              "      <td>0.0</td>\n",
              "      <td>...</td>\n",
              "      <td>0.366628</td>\n",
              "      <td>0.435151</td>\n",
              "      <td>763.953491</td>\n",
              "      <td>0.0</td>\n",
              "      <td>0.00015</td>\n",
              "      <td>600</td>\n",
              "      <td>11.092870</td>\n",
              "      <td>4.465908</td>\n",
              "      <td>0.693147</td>\n",
              "      <td>0.693147</td>\n",
              "    </tr>\n",
              "    <tr>\n",
              "      <th>4</th>\n",
              "      <td>High volume traffic</td>\n",
              "      <td>2</td>\n",
              "      <td>4500</td>\n",
              "      <td>59500.0</td>\n",
              "      <td>85.0</td>\n",
              "      <td>1486.0</td>\n",
              "      <td>1.0</td>\n",
              "      <td>1.0</td>\n",
              "      <td>-1.0</td>\n",
              "      <td>0.0</td>\n",
              "      <td>...</td>\n",
              "      <td>0.366628</td>\n",
              "      <td>0.524399</td>\n",
              "      <td>700.000000</td>\n",
              "      <td>0.0</td>\n",
              "      <td>0.00000</td>\n",
              "      <td>5</td>\n",
              "      <td>10.993749</td>\n",
              "      <td>4.454347</td>\n",
              "      <td>0.693147</td>\n",
              "      <td>0.693147</td>\n",
              "    </tr>\n",
              "  </tbody>\n",
              "</table>\n",
              "<p>5 rows × 38 columns</p>\n",
              "</div>"
            ],
            "text/plain": [
              "           attack_code  victim_ip  port_number  packet_speed  data_speed  \\\n",
              "0  High volume traffic          1         4500       55600.0        73.0   \n",
              "1  High volume traffic          2         4500       63500.0        90.0   \n",
              "2  High volume traffic          3         1200       59700.0        79.0   \n",
              "3  High volume traffic          3         1200       65700.0        86.0   \n",
              "4  High volume traffic          2         4500       59500.0        85.0   \n",
              "\n",
              "   packet_len  source_ip  avg_source_ip  start_hour  start_weekday  ...  \\\n",
              "0      1383.0        6.0            6.0        -1.0            0.0  ...   \n",
              "1      1506.0        1.0            1.0        -1.0            0.0  ...   \n",
              "2      1399.0        1.0            1.0        -1.0            0.0  ...   \n",
              "3      1399.0        1.0            1.0        -1.0            0.0  ...   \n",
              "4      1486.0        1.0            1.0        -1.0            0.0  ...   \n",
              "\n",
              "   hourly_risk  size_anomaly  speed_ratio  burst_score  victim_risk  \\\n",
              "0     0.366628      0.418737   761.643860          0.0      0.02909   \n",
              "1     0.366628      0.544916   705.555542          0.0      0.00000   \n",
              "2     0.366628      0.435151   755.696228          0.0      0.00015   \n",
              "3     0.366628      0.435151   763.953491          0.0      0.00015   \n",
              "4     0.366628      0.524399   700.000000          0.0      0.00000   \n",
              "\n",
              "   ports_per_victim  log_packet_speed log_data_speed  log_source_ip  \\\n",
              "0                11         10.925957       4.304065       1.945910   \n",
              "1                 5         11.058811       4.510859       0.693147   \n",
              "2               600         10.997104       4.382027       0.693147   \n",
              "3               600         11.092870       4.465908       0.693147   \n",
              "4                 5         10.993749       4.454347       0.693147   \n",
              "\n",
              "   log_avg_source_ip  \n",
              "0           1.945910  \n",
              "1           0.693147  \n",
              "2           0.693147  \n",
              "3           0.693147  \n",
              "4           0.693147  \n",
              "\n",
              "[5 rows x 38 columns]"
            ]
          },
          "execution_count": 189,
          "metadata": {},
          "output_type": "execute_result"
        }
      ],
      "source": [
        "df.head()"
      ]
    },
    {
      "cell_type": "markdown",
      "metadata": {},
      "source": [
        "Creating new non-linear features with polynomial transformation"
      ]
    },
    {
      "cell_type": "code",
      "execution_count": 190,
      "metadata": {},
      "outputs": [],
      "source": [
        "from sklearn.preprocessing import PolynomialFeatures"
      ]
    },
    {
      "cell_type": "code",
      "execution_count": 191,
      "metadata": {
        "id": "ShfOzbQn7oKO"
      },
      "outputs": [],
      "source": [
        "poly = PolynomialFeatures(degree=2, interaction_only=False, include_bias=False)\n",
        "numeric_features = ['packet_speed', 'data_speed', 'packet_len', 'source_ip']\n",
        "poly_features = poly.fit_transform(df[numeric_features])\n",
        "\n",
        "poly_feature_names = poly.get_feature_names_out(numeric_features)\n",
        "df_poly = pd.DataFrame(poly_features, columns=poly_feature_names)\n",
        "\n",
        "df = pd.concat([df, df_poly], axis=1)"
      ]
    },
    {
      "cell_type": "code",
      "execution_count": 192,
      "metadata": {
        "id": "VMJZ8F2T8Ad5"
      },
      "outputs": [
        {
          "data": {
            "text/html": [
              "<div>\n",
              "<style scoped>\n",
              "    .dataframe tbody tr th:only-of-type {\n",
              "        vertical-align: middle;\n",
              "    }\n",
              "\n",
              "    .dataframe tbody tr th {\n",
              "        vertical-align: top;\n",
              "    }\n",
              "\n",
              "    .dataframe thead th {\n",
              "        text-align: right;\n",
              "    }\n",
              "</style>\n",
              "<table border=\"1\" class=\"dataframe\">\n",
              "  <thead>\n",
              "    <tr style=\"text-align: right;\">\n",
              "      <th></th>\n",
              "      <th>attack_code</th>\n",
              "      <th>victim_ip</th>\n",
              "      <th>port_number</th>\n",
              "      <th>packet_speed</th>\n",
              "      <th>data_speed</th>\n",
              "      <th>packet_len</th>\n",
              "      <th>source_ip</th>\n",
              "      <th>avg_source_ip</th>\n",
              "      <th>start_hour</th>\n",
              "      <th>start_weekday</th>\n",
              "      <th>...</th>\n",
              "      <th>packet_speed^2</th>\n",
              "      <th>packet_speed data_speed</th>\n",
              "      <th>packet_speed packet_len</th>\n",
              "      <th>packet_speed source_ip</th>\n",
              "      <th>data_speed^2</th>\n",
              "      <th>data_speed packet_len</th>\n",
              "      <th>data_speed source_ip</th>\n",
              "      <th>packet_len^2</th>\n",
              "      <th>packet_len source_ip</th>\n",
              "      <th>source_ip^2</th>\n",
              "    </tr>\n",
              "  </thead>\n",
              "  <tbody>\n",
              "    <tr>\n",
              "      <th>0</th>\n",
              "      <td>High volume traffic</td>\n",
              "      <td>1.0</td>\n",
              "      <td>4500.0</td>\n",
              "      <td>55600.0</td>\n",
              "      <td>73.0</td>\n",
              "      <td>1383.0</td>\n",
              "      <td>6.0</td>\n",
              "      <td>6.0</td>\n",
              "      <td>-1.0</td>\n",
              "      <td>0.0</td>\n",
              "      <td>...</td>\n",
              "      <td>3.091360e+09</td>\n",
              "      <td>4058800.0</td>\n",
              "      <td>76894800.0</td>\n",
              "      <td>333600.0</td>\n",
              "      <td>5329.0</td>\n",
              "      <td>100959.0</td>\n",
              "      <td>438.0</td>\n",
              "      <td>1912689.0</td>\n",
              "      <td>8298.0</td>\n",
              "      <td>36.0</td>\n",
              "    </tr>\n",
              "    <tr>\n",
              "      <th>1</th>\n",
              "      <td>High volume traffic</td>\n",
              "      <td>2.0</td>\n",
              "      <td>4500.0</td>\n",
              "      <td>63500.0</td>\n",
              "      <td>90.0</td>\n",
              "      <td>1506.0</td>\n",
              "      <td>1.0</td>\n",
              "      <td>1.0</td>\n",
              "      <td>-1.0</td>\n",
              "      <td>0.0</td>\n",
              "      <td>...</td>\n",
              "      <td>4.032250e+09</td>\n",
              "      <td>5715000.0</td>\n",
              "      <td>95631000.0</td>\n",
              "      <td>63500.0</td>\n",
              "      <td>8100.0</td>\n",
              "      <td>135540.0</td>\n",
              "      <td>90.0</td>\n",
              "      <td>2268036.0</td>\n",
              "      <td>1506.0</td>\n",
              "      <td>1.0</td>\n",
              "    </tr>\n",
              "    <tr>\n",
              "      <th>2</th>\n",
              "      <td>High volume traffic</td>\n",
              "      <td>3.0</td>\n",
              "      <td>1200.0</td>\n",
              "      <td>59700.0</td>\n",
              "      <td>79.0</td>\n",
              "      <td>1399.0</td>\n",
              "      <td>1.0</td>\n",
              "      <td>1.0</td>\n",
              "      <td>-1.0</td>\n",
              "      <td>0.0</td>\n",
              "      <td>...</td>\n",
              "      <td>3.564090e+09</td>\n",
              "      <td>4716300.0</td>\n",
              "      <td>83520304.0</td>\n",
              "      <td>59700.0</td>\n",
              "      <td>6241.0</td>\n",
              "      <td>110521.0</td>\n",
              "      <td>79.0</td>\n",
              "      <td>1957201.0</td>\n",
              "      <td>1399.0</td>\n",
              "      <td>1.0</td>\n",
              "    </tr>\n",
              "    <tr>\n",
              "      <th>3</th>\n",
              "      <td>High volume traffic</td>\n",
              "      <td>3.0</td>\n",
              "      <td>1200.0</td>\n",
              "      <td>65700.0</td>\n",
              "      <td>86.0</td>\n",
              "      <td>1399.0</td>\n",
              "      <td>1.0</td>\n",
              "      <td>1.0</td>\n",
              "      <td>-1.0</td>\n",
              "      <td>0.0</td>\n",
              "      <td>...</td>\n",
              "      <td>4.316490e+09</td>\n",
              "      <td>5650200.0</td>\n",
              "      <td>91914304.0</td>\n",
              "      <td>65700.0</td>\n",
              "      <td>7396.0</td>\n",
              "      <td>120314.0</td>\n",
              "      <td>86.0</td>\n",
              "      <td>1957201.0</td>\n",
              "      <td>1399.0</td>\n",
              "      <td>1.0</td>\n",
              "    </tr>\n",
              "    <tr>\n",
              "      <th>4</th>\n",
              "      <td>High volume traffic</td>\n",
              "      <td>2.0</td>\n",
              "      <td>4500.0</td>\n",
              "      <td>59500.0</td>\n",
              "      <td>85.0</td>\n",
              "      <td>1486.0</td>\n",
              "      <td>1.0</td>\n",
              "      <td>1.0</td>\n",
              "      <td>-1.0</td>\n",
              "      <td>0.0</td>\n",
              "      <td>...</td>\n",
              "      <td>3.540250e+09</td>\n",
              "      <td>5057500.0</td>\n",
              "      <td>88417000.0</td>\n",
              "      <td>59500.0</td>\n",
              "      <td>7225.0</td>\n",
              "      <td>126310.0</td>\n",
              "      <td>85.0</td>\n",
              "      <td>2208196.0</td>\n",
              "      <td>1486.0</td>\n",
              "      <td>1.0</td>\n",
              "    </tr>\n",
              "  </tbody>\n",
              "</table>\n",
              "<p>5 rows × 52 columns</p>\n",
              "</div>"
            ],
            "text/plain": [
              "           attack_code  victim_ip  port_number  packet_speed  data_speed  \\\n",
              "0  High volume traffic        1.0       4500.0       55600.0        73.0   \n",
              "1  High volume traffic        2.0       4500.0       63500.0        90.0   \n",
              "2  High volume traffic        3.0       1200.0       59700.0        79.0   \n",
              "3  High volume traffic        3.0       1200.0       65700.0        86.0   \n",
              "4  High volume traffic        2.0       4500.0       59500.0        85.0   \n",
              "\n",
              "   packet_len  source_ip  avg_source_ip  start_hour  start_weekday  ...  \\\n",
              "0      1383.0        6.0            6.0        -1.0            0.0  ...   \n",
              "1      1506.0        1.0            1.0        -1.0            0.0  ...   \n",
              "2      1399.0        1.0            1.0        -1.0            0.0  ...   \n",
              "3      1399.0        1.0            1.0        -1.0            0.0  ...   \n",
              "4      1486.0        1.0            1.0        -1.0            0.0  ...   \n",
              "\n",
              "   packet_speed^2  packet_speed data_speed  packet_speed packet_len  \\\n",
              "0    3.091360e+09                4058800.0               76894800.0   \n",
              "1    4.032250e+09                5715000.0               95631000.0   \n",
              "2    3.564090e+09                4716300.0               83520304.0   \n",
              "3    4.316490e+09                5650200.0               91914304.0   \n",
              "4    3.540250e+09                5057500.0               88417000.0   \n",
              "\n",
              "   packet_speed source_ip data_speed^2 data_speed packet_len  \\\n",
              "0                333600.0       5329.0              100959.0   \n",
              "1                 63500.0       8100.0              135540.0   \n",
              "2                 59700.0       6241.0              110521.0   \n",
              "3                 65700.0       7396.0              120314.0   \n",
              "4                 59500.0       7225.0              126310.0   \n",
              "\n",
              "  data_speed source_ip packet_len^2  packet_len source_ip  source_ip^2  \n",
              "0                438.0    1912689.0                8298.0         36.0  \n",
              "1                 90.0    2268036.0                1506.0          1.0  \n",
              "2                 79.0    1957201.0                1399.0          1.0  \n",
              "3                 86.0    1957201.0                1399.0          1.0  \n",
              "4                 85.0    2208196.0                1486.0          1.0  \n",
              "\n",
              "[5 rows x 52 columns]"
            ]
          },
          "execution_count": 192,
          "metadata": {},
          "output_type": "execute_result"
        }
      ],
      "source": [
        "df.head()"
      ]
    },
    {
      "cell_type": "markdown",
      "metadata": {
        "id": "4m9yir0CCuVk"
      },
      "source": [
        "# Principal component analysis (experiment)"
      ]
    },
    {
      "cell_type": "code",
      "execution_count": 193,
      "metadata": {
        "id": "9aJCFHORCtsJ"
      },
      "outputs": [],
      "source": [
        "from sklearn.preprocessing import StandardScaler\n",
        "from sklearn.decomposition import PCA"
      ]
    },
    {
      "cell_type": "code",
      "execution_count": 194,
      "metadata": {
        "colab": {
          "base_uri": "https://localhost:8080/"
        },
        "id": "l-AGaT2oDQkS",
        "outputId": "a1196a83-ae43-46c3-b5d4-f34575ecc742"
      },
      "outputs": [
        {
          "data": {
            "text/plain": [
              "Index(['attack_code', 'victim_ip', 'port_number', 'packet_speed', 'data_speed',\n",
              "       'packet_len', 'source_ip', 'avg_source_ip', 'start_hour',\n",
              "       'start_weekday', 'start_dayofyear', 'end_hour', 'end_weekday',\n",
              "       'end_dayofyear', 'type_ddos', 'type_normal', 'type_sus', 'type',\n",
              "       'is_dns', 'is_ntp', 'is_coap', 'is_ssdp', 'multi_protocol_attack',\n",
              "       'udp_amp_risk', 'targets_web', 'targets_db', 'ephemeral_flood',\n",
              "       'attack_duration', 'hourly_risk', 'size_anomaly', 'speed_ratio',\n",
              "       'burst_score', 'victim_risk', 'ports_per_victim', 'log_packet_speed',\n",
              "       'log_data_speed', 'log_source_ip', 'log_avg_source_ip', 'packet_speed',\n",
              "       'data_speed', 'packet_len', 'source_ip', 'packet_speed^2',\n",
              "       'packet_speed data_speed', 'packet_speed packet_len',\n",
              "       'packet_speed source_ip', 'data_speed^2', 'data_speed packet_len',\n",
              "       'data_speed source_ip', 'packet_len^2', 'packet_len source_ip',\n",
              "       'source_ip^2'],\n",
              "      dtype='object')"
            ]
          },
          "execution_count": 194,
          "metadata": {},
          "output_type": "execute_result"
        }
      ],
      "source": [
        "df.columns"
      ]
    },
    {
      "cell_type": "code",
      "execution_count": 195,
      "metadata": {
        "id": "ihWh9-z9GcbK"
      },
      "outputs": [],
      "source": [
        "df_numeric = df.select_dtypes(include=[np.number])\n",
        "\n",
        "scaler = StandardScaler()\n",
        "X_scaled = scaler.fit_transform(df_numeric)\n",
        "X_scaled = np.nan_to_num(X_scaled)\n",
        "pca = PCA()\n",
        "X_pca = pca.fit_transform(X_scaled)\n"
      ]
    },
    {
      "cell_type": "markdown",
      "metadata": {},
      "source": [
        "Cumulative explained variance"
      ]
    },
    {
      "cell_type": "code",
      "execution_count": 196,
      "metadata": {
        "colab": {
          "base_uri": "https://localhost:8080/",
          "height": 449
        },
        "id": "h9M9Y6FyJEdk",
        "outputId": "497f9daa-4749-4c19-86c5-e26f1977b5c1"
      },
      "outputs": [
        {
          "data": {
            "image/png": "[encoded data removed]",
            "text/plain": [
              "<Figure size 640x480 with 1 Axes>"
            ]
          },
          "metadata": {},
          "output_type": "display_data"
        }
      ],
      "source": [
        "import matplotlib.pyplot as plt\n",
        "plt.plot(np.cumsum(pca.explained_variance_ratio_))\n",
        "plt.xlabel('Number of Components')\n",
        "plt.ylabel('Cumulative Explained Variance')\n",
        "plt.axhline(y=0.95, color='r', linestyle='--')  # 95% threshold\n",
        "plt.show()"
      ]
    },
    {
      "cell_type": "markdown",
      "metadata": {},
      "source": [
        "Selecting components for 95% variance"
      ]
    },
    {
      "cell_type": "code",
      "execution_count": 197,
      "metadata": {
        "id": "cqcBH653JQEm"
      },
      "outputs": [],
      "source": [
        "pca = PCA(n_components=0.95)\n",
        "X_pca = pca.fit_transform(X_scaled)\n",
        "\n",
        "pca_columns = [f'PC_{i+1}' for i in range(X_pca.shape[1])]\n",
        "df_pca = pd.DataFrame(X_pca, columns=pca_columns)"
      ]
    },
    {
      "cell_type": "markdown",
      "metadata": {},
      "source": [
        "Combine it with original data"
      ]
    },
    {
      "cell_type": "code",
      "execution_count": 198,
      "metadata": {},
      "outputs": [],
      "source": [
        "df = pd.concat([df.reset_index(drop=True), df_pca], axis=1)"
      ]
    },
    {
      "cell_type": "markdown",
      "metadata": {},
      "source": [
        "Variance ratio of each principal component"
      ]
    },
    {
      "cell_type": "code",
      "execution_count": 199,
      "metadata": {
        "colab": {
          "base_uri": "https://localhost:8080/",
          "height": 1000
        },
        "id": "jjF_e1Z1QHd7",
        "outputId": "5d4d4ccb-f55f-4a81-c58e-432747a8237d"
      },
      "outputs": [
        {
          "data": {
            "image/png": "[encoded data removed]",
            "text/plain": [
              "<Figure size 1000x600 with 1 Axes>"
            ]
          },
          "metadata": {},
          "output_type": "display_data"
        }
      ],
      "source": [
        "plt.figure(figsize=(10, 6))\n",
        "plt.bar(range(1, len(pca.explained_variance_ratio_) + 1), pca.explained_variance_ratio_)\n",
        "plt.xlabel('Principal component')\n",
        "plt.ylabel('Variance Ratio')\n",
        "plt.title('PCA Variance ratios')\n",
        "plt.show()\n"
      ]
    },
    {
      "cell_type": "code",
      "execution_count": 200,
      "metadata": {},
      "outputs": [
        {
          "data": {
            "image/png": "[encoded data removed]",
            "text/plain": [
              "<Figure size 1000x600 with 1 Axes>"
            ]
          },
          "metadata": {},
          "output_type": "display_data"
        }
      ],
      "source": [
        "plt.figure(figsize=(10, 6))\n",
        "plt.scatter(df_pca['PC_1'], df_pca['PC_2'])\n",
        "plt.xlabel('PC 1')\n",
        "plt.ylabel('PC 2')\n",
        "plt.title('First 2 Principal Components')\n",
        "plt.show()"
      ]
    }
  ],
  "metadata": {
    "colab": {
      "collapsed_sections": [
        "5N-2g9T7nuT6",
        "k5qFb1GppXDr",
        "hUYyP1rQBLC6",
        "D59md2mGvo1I",
        "9zlIoDS9xmuP"
      ],
      "provenance": []
    },
    "kernelspec": {
      "display_name": "Python 3",
      "name": "python3"
    },
    "language_info": {
      "codemirror_mode": {
        "name": "ipython",
        "version": 3
      },
      "file_extension": ".py",
      "mimetype": "text/x-python",
      "name": "python",
      "nbconvert_exporter": "python",
      "pygments_lexer": "ipython3",
      "version": "3.12.7"
    }
  },
  "nbformat": 4,
  "nbformat_minor": 0
}
